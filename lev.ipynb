{
 "cells": [
  {
   "cell_type": "code",
   "execution_count": 6,
   "outputs": [],
   "source": [
    "import pandas as pd\n",
    "\n",
    "from models import *"
   ],
   "metadata": {
    "collapsed": false,
    "ExecuteTime": {
     "end_time": "2024-12-17T21:28:15.364525Z",
     "start_time": "2024-12-17T21:28:14.057985Z"
    }
   },
   "id": "64ad0aa6d77280d3"
  },
  {
   "cell_type": "code",
   "execution_count": 2,
   "id": "initial_id",
   "metadata": {
    "collapsed": true,
    "ExecuteTime": {
     "end_time": "2024-12-16T11:13:33.077307Z",
     "start_time": "2024-12-16T11:13:32.380616Z"
    }
   },
   "outputs": [
    {
     "name": "stderr",
     "output_type": "stream",
     "text": [
      "/var/folders/5w/bchvy66s6vbgncfkws1skvf40000gp/T/ipykernel_5435/1010640072.py:1: DtypeWarning: Columns (10,13,16) have mixed types. Specify dtype option on import or set low_memory=False.\n",
      "  df = pd.read_csv('data/original/dataset.csv')\n"
     ]
    },
    {
     "data": {
      "text/plain": "   SessionID                Start                  End     kWh  Revenue  \\\n0     591686  2021-01-01 00:05:34  2021-01-01 00:31:22   6.033    27.15   \n1     591720  2021-01-01 01:40:37  2021-01-01 01:42:19   0.890     6.22   \n2     591749  2021-01-01 02:12:35  2021-01-01 03:07:36   3.300    14.85   \n3     591755  2021-01-01 02:32:21  2021-01-01 02:57:08   6.880    48.09   \n4     591783  2021-01-01 03:39:03  2021-01-01 04:02:05  12.630    56.84   \n\n   InternalNum   City  Station  PortNum     PortType  ...     Client Tariff  \\\n0     28410100   Київ      209        3  Type 2 Plug  ...  553804960   4.50   \n1     25840200   Київ      111        1      CHAdeMO  ...  550843379   6.99   \n2     40112300  Стрый      147        1       Type 2  ...  540085134   4.50   \n3     25840200   Київ      111        1      CHAdeMO  ...  828881697   6.99   \n4     28410100   Київ      209        3  Type 2 Plug  ...  553804960   4.50   \n\n   MaxPower Fishka Successful DisconnectionReason  Latitude  Longitude  Type  \\\n0       NaN   True       True                 NaN  50.43104   30.39037  FAST   \n1       NaN   True       True                 NaN  50.48207   30.48725  FAST   \n2       NaN   True       True                 NaN  49.24778   23.85610  SLOW   \n3       NaN   True       True                 NaN  50.48207   30.48725  FAST   \n4       NaN   True       True                 NaN  50.43104   30.39037  FAST   \n\n  ChargingTime  \n0        25.80  \n1         1.70  \n2        55.02  \n3        24.78  \n4        23.03  \n\n[5 rows x 21 columns]",
      "text/html": "<div>\n<style scoped>\n    .dataframe tbody tr th:only-of-type {\n        vertical-align: middle;\n    }\n\n    .dataframe tbody tr th {\n        vertical-align: top;\n    }\n\n    .dataframe thead th {\n        text-align: right;\n    }\n</style>\n<table border=\"1\" class=\"dataframe\">\n  <thead>\n    <tr style=\"text-align: right;\">\n      <th></th>\n      <th>SessionID</th>\n      <th>Start</th>\n      <th>End</th>\n      <th>kWh</th>\n      <th>Revenue</th>\n      <th>InternalNum</th>\n      <th>City</th>\n      <th>Station</th>\n      <th>PortNum</th>\n      <th>PortType</th>\n      <th>...</th>\n      <th>Client</th>\n      <th>Tariff</th>\n      <th>MaxPower</th>\n      <th>Fishka</th>\n      <th>Successful</th>\n      <th>DisconnectionReason</th>\n      <th>Latitude</th>\n      <th>Longitude</th>\n      <th>Type</th>\n      <th>ChargingTime</th>\n    </tr>\n  </thead>\n  <tbody>\n    <tr>\n      <th>0</th>\n      <td>591686</td>\n      <td>2021-01-01 00:05:34</td>\n      <td>2021-01-01 00:31:22</td>\n      <td>6.033</td>\n      <td>27.15</td>\n      <td>28410100</td>\n      <td>Київ</td>\n      <td>209</td>\n      <td>3</td>\n      <td>Type 2 Plug</td>\n      <td>...</td>\n      <td>553804960</td>\n      <td>4.50</td>\n      <td>NaN</td>\n      <td>True</td>\n      <td>True</td>\n      <td>NaN</td>\n      <td>50.43104</td>\n      <td>30.39037</td>\n      <td>FAST</td>\n      <td>25.80</td>\n    </tr>\n    <tr>\n      <th>1</th>\n      <td>591720</td>\n      <td>2021-01-01 01:40:37</td>\n      <td>2021-01-01 01:42:19</td>\n      <td>0.890</td>\n      <td>6.22</td>\n      <td>25840200</td>\n      <td>Київ</td>\n      <td>111</td>\n      <td>1</td>\n      <td>CHAdeMO</td>\n      <td>...</td>\n      <td>550843379</td>\n      <td>6.99</td>\n      <td>NaN</td>\n      <td>True</td>\n      <td>True</td>\n      <td>NaN</td>\n      <td>50.48207</td>\n      <td>30.48725</td>\n      <td>FAST</td>\n      <td>1.70</td>\n    </tr>\n    <tr>\n      <th>2</th>\n      <td>591749</td>\n      <td>2021-01-01 02:12:35</td>\n      <td>2021-01-01 03:07:36</td>\n      <td>3.300</td>\n      <td>14.85</td>\n      <td>40112300</td>\n      <td>Стрый</td>\n      <td>147</td>\n      <td>1</td>\n      <td>Type 2</td>\n      <td>...</td>\n      <td>540085134</td>\n      <td>4.50</td>\n      <td>NaN</td>\n      <td>True</td>\n      <td>True</td>\n      <td>NaN</td>\n      <td>49.24778</td>\n      <td>23.85610</td>\n      <td>SLOW</td>\n      <td>55.02</td>\n    </tr>\n    <tr>\n      <th>3</th>\n      <td>591755</td>\n      <td>2021-01-01 02:32:21</td>\n      <td>2021-01-01 02:57:08</td>\n      <td>6.880</td>\n      <td>48.09</td>\n      <td>25840200</td>\n      <td>Київ</td>\n      <td>111</td>\n      <td>1</td>\n      <td>CHAdeMO</td>\n      <td>...</td>\n      <td>828881697</td>\n      <td>6.99</td>\n      <td>NaN</td>\n      <td>True</td>\n      <td>True</td>\n      <td>NaN</td>\n      <td>50.48207</td>\n      <td>30.48725</td>\n      <td>FAST</td>\n      <td>24.78</td>\n    </tr>\n    <tr>\n      <th>4</th>\n      <td>591783</td>\n      <td>2021-01-01 03:39:03</td>\n      <td>2021-01-01 04:02:05</td>\n      <td>12.630</td>\n      <td>56.84</td>\n      <td>28410100</td>\n      <td>Київ</td>\n      <td>209</td>\n      <td>3</td>\n      <td>Type 2 Plug</td>\n      <td>...</td>\n      <td>553804960</td>\n      <td>4.50</td>\n      <td>NaN</td>\n      <td>True</td>\n      <td>True</td>\n      <td>NaN</td>\n      <td>50.43104</td>\n      <td>30.39037</td>\n      <td>FAST</td>\n      <td>23.03</td>\n    </tr>\n  </tbody>\n</table>\n<p>5 rows × 21 columns</p>\n</div>"
     },
     "execution_count": 2,
     "metadata": {},
     "output_type": "execute_result"
    }
   ],
   "source": [
    "df = pd.read_csv('data/original/dataset.csv')\n",
    "df.head()"
   ]
  },
  {
   "cell_type": "code",
   "execution_count": 3,
   "outputs": [
    {
     "data": {
      "text/plain": "(30300,)"
     },
     "execution_count": 3,
     "metadata": {},
     "output_type": "execute_result"
    }
   ],
   "source": [
    "df['Client'].unique().shape"
   ],
   "metadata": {
    "collapsed": false,
    "ExecuteTime": {
     "end_time": "2024-12-16T11:13:33.121828Z",
     "start_time": "2024-12-16T11:13:33.075869Z"
    }
   },
   "id": "8a141dbdb113b9e2"
  },
  {
   "cell_type": "code",
   "execution_count": 4,
   "outputs": [
    {
     "data": {
      "text/plain": "(372187,)"
     },
     "execution_count": 4,
     "metadata": {},
     "output_type": "execute_result"
    }
   ],
   "source": [
    "df['Fishka'].shape"
   ],
   "metadata": {
    "collapsed": false,
    "ExecuteTime": {
     "end_time": "2024-12-16T11:13:33.122309Z",
     "start_time": "2024-12-16T11:13:33.100232Z"
    }
   },
   "id": "97b953660f2f10cc"
  },
  {
   "cell_type": "code",
   "execution_count": 5,
   "outputs": [
    {
     "name": "stdout",
     "output_type": "stream",
     "text": [
      " 2021: 15986 \n",
      " 2022: 20404 \n",
      " 2023: 148449 \n",
      " 2024: 187347\n"
     ]
    }
   ],
   "source": [
    "df['Start'] = pd.to_datetime(df['Start'], format='%Y-%m-%d %H:%M:%S')\n",
    "df['End'] = pd.to_datetime(df['End'], format='%Y-%m-%d %H:%M:%S')\n",
    "df['Start'] = pd.to_datetime(df['Start'], format='%Y-%m-%d %H:%M:%S')\n",
    "df2021 = df[(df['Start'] >= '2021-01-01 01:01:01') & (df['Start'] <= '2022-01-01 01:01:01')]\n",
    "df2022 = df[(df['Start'] >= '2022-01-01 01:01:01') & (df['Start'] <= '2023-01-01 01:01:01')]\n",
    "df2023 = df[(df['Start'] >= '2023-01-01 01:01:01') & (df['Start'] <= '2024-01-01 01:01:01')]\n",
    "df2024 = df[(df['Start'] >= '2024-01-01 01:01:01') & (df['Start'] <= '2025-01-01 01:01:01')]\n",
    "print(f\" 2021: {df2021.shape[0]} \\n 2022: {df2022.shape[0]} \\n 2023: {df2023.shape[0]} \\n 2024: {df2024.shape[0]}\")"
   ],
   "metadata": {
    "collapsed": false,
    "ExecuteTime": {
     "end_time": "2024-12-16T11:13:33.330346Z",
     "start_time": "2024-12-16T11:13:33.227104Z"
    }
   },
   "id": "7d3d0f6a63d16aae"
  },
  {
   "cell_type": "code",
   "execution_count": 6,
   "outputs": [],
   "source": [
    "train, test = train_test(df)\n",
    "train, valid = train_test(train)"
   ],
   "metadata": {
    "collapsed": false,
    "ExecuteTime": {
     "end_time": "2024-12-16T11:13:43.721702Z",
     "start_time": "2024-12-16T11:13:43.555652Z"
    }
   },
   "id": "97aaf2b49140f409"
  },
  {
   "cell_type": "code",
   "execution_count": 8,
   "outputs": [
    {
     "data": {
      "text/plain": "<bound method Series.unique of 343755    True\n319149     NaN\n338634     NaN\n175914     NaN\n95606     True\n          ... \n259178     NaN\n365838     NaN\n131932    True\n146867    True\n121958    True\nName: Fishka, Length: 297749, dtype: object>"
     },
     "execution_count": 8,
     "metadata": {},
     "output_type": "execute_result"
    }
   ],
   "source": [
    "train['Fishka'].unique"
   ],
   "metadata": {
    "collapsed": false,
    "ExecuteTime": {
     "end_time": "2024-11-18T12:23:42.312941Z",
     "start_time": "2024-11-18T12:23:42.307122Z"
    }
   },
   "id": "766ee08aa780ff52"
  },
  {
   "cell_type": "code",
   "execution_count": 9,
   "outputs": [
    {
     "data": {
      "text/plain": "SessionID                       int64\nStart                  datetime64[ns]\nEnd                    datetime64[ns]\nRevenue                       float64\nInternalNum                     int64\nCity                           object\nStation                         int64\nPortNum                         int64\nPortType                       object\nAdapter                        object\nClient                         object\nTariff                        float64\nMaxPower                       object\nFishka                         object\nSuccessful                     object\nDisconnectionReason            object\nLatitude                      float64\nLongitude                     float64\nType                           object\nChargingTime                  float64\nkWh                           float64\ndtype: object"
     },
     "execution_count": 9,
     "metadata": {},
     "output_type": "execute_result"
    }
   ],
   "source": [
    "train.dtypes"
   ],
   "metadata": {
    "collapsed": false,
    "ExecuteTime": {
     "end_time": "2024-11-18T12:23:42.316814Z",
     "start_time": "2024-11-18T12:23:42.310831Z"
    }
   },
   "id": "1b2a823e00520f34"
  },
  {
   "cell_type": "code",
   "execution_count": 10,
   "outputs": [],
   "source": [
    "# features = ['Latitude', 'Longitude', 'Fishka', 'Client', 'PortType', 'PortNum', 'Adapter', 'City', 'Station']\n",
    "# categorical = ['Client', 'PortType', 'PortNum', 'Adapter', 'City', 'Station', 'Fishka']\n",
    "# study, best_model, cv_score, test_score = optimize_model('LGBM', train, features, categorical, 10)"
   ],
   "metadata": {
    "collapsed": false,
    "ExecuteTime": {
     "end_time": "2024-11-18T12:23:42.319362Z",
     "start_time": "2024-11-18T12:23:42.315703Z"
    }
   },
   "id": "a0482f3f1e1fb924"
  },
  {
   "cell_type": "code",
   "execution_count": 11,
   "outputs": [],
   "source": [
    "# for feature in categorical:\n",
    "#     test[feature] = test[feature].astype('category')\n",
    "# \n",
    "# train_preds = best_model.predict(test[features])\n",
    "# rmse(test['kWh'], train_preds)"
   ],
   "metadata": {
    "collapsed": false,
    "ExecuteTime": {
     "end_time": "2024-11-18T12:23:42.323940Z",
     "start_time": "2024-11-18T12:23:42.321904Z"
    }
   },
   "id": "b234a604ebd90d52"
  },
  {
   "cell_type": "code",
   "execution_count": 12,
   "outputs": [
    {
     "data": {
      "text/plain": "                 time     kWh\n0 2021-01-01 00:00:00   6.033\n1 2021-01-01 01:00:00   0.890\n2 2021-01-01 02:00:00  10.180\n3 2021-01-01 03:00:00  12.630\n4 2021-01-01 04:00:00   1.940",
      "text/html": "<div>\n<style scoped>\n    .dataframe tbody tr th:only-of-type {\n        vertical-align: middle;\n    }\n\n    .dataframe tbody tr th {\n        vertical-align: top;\n    }\n\n    .dataframe thead th {\n        text-align: right;\n    }\n</style>\n<table border=\"1\" class=\"dataframe\">\n  <thead>\n    <tr style=\"text-align: right;\">\n      <th></th>\n      <th>time</th>\n      <th>kWh</th>\n    </tr>\n  </thead>\n  <tbody>\n    <tr>\n      <th>0</th>\n      <td>2021-01-01 00:00:00</td>\n      <td>6.033</td>\n    </tr>\n    <tr>\n      <th>1</th>\n      <td>2021-01-01 01:00:00</td>\n      <td>0.890</td>\n    </tr>\n    <tr>\n      <th>2</th>\n      <td>2021-01-01 02:00:00</td>\n      <td>10.180</td>\n    </tr>\n    <tr>\n      <th>3</th>\n      <td>2021-01-01 03:00:00</td>\n      <td>12.630</td>\n    </tr>\n    <tr>\n      <th>4</th>\n      <td>2021-01-01 04:00:00</td>\n      <td>1.940</td>\n    </tr>\n  </tbody>\n</table>\n</div>"
     },
     "execution_count": 12,
     "metadata": {},
     "output_type": "execute_result"
    }
   ],
   "source": [
    "df = pd.read_csv('data/clean/hourly.csv')\n",
    "df['time'] = pd.to_datetime(df['time'], format='%Y-%m-%d %H:%M:%S')\n",
    "df.head()"
   ],
   "metadata": {
    "collapsed": false,
    "ExecuteTime": {
     "end_time": "2024-11-18T12:23:42.347502Z",
     "start_time": "2024-11-18T12:23:42.325064Z"
    }
   },
   "id": "cf7d8c673b31c034"
  },
  {
   "cell_type": "code",
   "execution_count": 13,
   "outputs": [
    {
     "data": {
      "text/plain": "time    datetime64[ns]\nkWh            float64\ndtype: object"
     },
     "execution_count": 13,
     "metadata": {},
     "output_type": "execute_result"
    }
   ],
   "source": [
    "df.dtypes"
   ],
   "metadata": {
    "collapsed": false,
    "ExecuteTime": {
     "end_time": "2024-11-18T12:23:42.351019Z",
     "start_time": "2024-11-18T12:23:42.348627Z"
    }
   },
   "id": "7d9e1a194b091802"
  },
  {
   "cell_type": "code",
   "execution_count": 14,
   "outputs": [
    {
     "data": {
      "text/plain": "<Figure size 640x480 with 1 Axes>",
      "image/png": "[encoded data removed]"
     },
     "metadata": {},
     "output_type": "display_data"
    }
   ],
   "source": [
    "plt.plot(df['time'], df['kWh'])\n",
    "plt.show()"
   ],
   "metadata": {
    "collapsed": false,
    "ExecuteTime": {
     "end_time": "2024-11-18T12:23:42.546544Z",
     "start_time": "2024-11-18T12:23:42.351598Z"
    }
   },
   "id": "c0c5c71cd0fad84b"
  },
  {
   "cell_type": "code",
   "execution_count": 12,
   "outputs": [],
   "source": [
    "df = pd.read_csv('data/clean/dataset.csv', parse_dates=['Start', 'End'], low_memory=False)"
   ],
   "metadata": {
    "collapsed": false,
    "ExecuteTime": {
     "end_time": "2024-12-17T13:07:04.156180Z",
     "start_time": "2024-12-17T13:07:03.832174Z"
    }
   },
   "id": "6c3a635b9fdbab04"
  },
  {
   "cell_type": "code",
   "execution_count": 13,
   "outputs": [
    {
     "data": {
      "text/plain": "idx                      int64\nStart           datetime64[ns]\nEnd             datetime64[ns]\nkWh                    float64\nRevenue                float64\nStation                  int64\nPortNum                  int64\nPortType                object\nAdapter                   bool\nClient                  object\nTariff                 float64\nMaxPower                object\nFishka                  object\nLatitude               float64\nLongitude              float64\nType                    object\nChargingTime           float64\ndtype: object"
     },
     "execution_count": 13,
     "metadata": {},
     "output_type": "execute_result"
    }
   ],
   "source": [
    "df.dtypes"
   ],
   "metadata": {
    "collapsed": false,
    "ExecuteTime": {
     "end_time": "2024-12-17T13:07:04.367816Z",
     "start_time": "2024-12-17T13:07:04.365348Z"
    }
   },
   "id": "a025be23de99b93f"
  },
  {
   "cell_type": "code",
   "execution_count": 16,
   "outputs": [
    {
     "data": {
      "text/plain": "           idx               Start                 End     kWh  Revenue  \\\n0            0 2021-01-01 00:05:34 2021-01-01 00:31:22   6.033    27.15   \n1            1 2021-01-01 01:40:37 2021-01-01 01:42:19   0.890     6.22   \n2            2 2021-01-01 02:12:35 2021-01-01 03:07:36   3.300    14.85   \n3            3 2021-01-01 02:32:21 2021-01-01 02:57:08   6.880    48.09   \n4            4 2021-01-01 03:39:03 2021-01-01 04:02:05  12.630    56.84   \n...        ...                 ...                 ...     ...      ...   \n177751  371666 2024-10-31 09:34:21 2024-10-31 10:37:24  73.572  1249.99   \n177752  371667 2024-10-31 09:36:14 2024-10-31 10:01:05  36.793   625.11   \n177753  371668 2024-10-31 09:36:48 2024-10-31 09:43:43   1.500    23.98   \n177754  371669 2024-10-31 09:37:47 2024-10-31 14:01:29  16.051   208.50   \n177755  371670 2024-10-31 09:38:16 2024-10-31 10:19:57   5.060    65.73   \n\n        Station  PortNum       PortType  Adapter     Client  Tariff MaxPower  \\\n0           209        3    Type 2 Plug    False  553804960    4.50      NaN   \n1           111        1        CHAdeMO    False  550843379    6.99      NaN   \n2           147        1         Type 2    False  540085134    4.50      NaN   \n3           111        1        CHAdeMO    False  828881697    6.99      NaN   \n4           209        3    Type 2 Plug    False  553804960    4.50      NaN   \n...         ...      ...            ...      ...        ...     ...      ...   \n177751      561        2   CCS 2/GBT DC    False  857230274   16.99     89.0   \n177752      550        1          CCS 2    False  503412773   16.99    119.0   \n177753      583        2        CHAdeMO    False  548310042   15.99     23.0   \n177754      989        1  Type 2/Type 1    False  544211695   12.99      3.0   \n177755      578        3    Type 2 Plug    False  862095174   12.99      7.0   \n\n       Fishka   Latitude  Longitude       Type  ChargingTime  \n0        True  50.431040  30.390370       FAST         25.80  \n1        True  50.482070  30.487250       FAST          1.70  \n2        True  49.247780  23.856100       SLOW         55.02  \n3        True  50.482070  30.487250       FAST         24.78  \n4        True  50.431040  30.390370       FAST         23.03  \n...       ...        ...        ...        ...           ...  \n177751    NaN  50.672440  26.271480  ULTRAFAST         63.05  \n177752    NaN  50.319615  31.033856  ULTRAFAST         24.85  \n177753   True  46.479330  30.690400       FAST          6.92  \n177754   True  50.533780  30.608210       SLOW        263.70  \n177755   True  48.567394  30.232208  ULTRAFAST         41.68  \n\n[177756 rows x 17 columns]",
      "text/html": "<div>\n<style scoped>\n    .dataframe tbody tr th:only-of-type {\n        vertical-align: middle;\n    }\n\n    .dataframe tbody tr th {\n        vertical-align: top;\n    }\n\n    .dataframe thead th {\n        text-align: right;\n    }\n</style>\n<table border=\"1\" class=\"dataframe\">\n  <thead>\n    <tr style=\"text-align: right;\">\n      <th></th>\n      <th>idx</th>\n      <th>Start</th>\n      <th>End</th>\n      <th>kWh</th>\n      <th>Revenue</th>\n      <th>Station</th>\n      <th>PortNum</th>\n      <th>PortType</th>\n      <th>Adapter</th>\n      <th>Client</th>\n      <th>Tariff</th>\n      <th>MaxPower</th>\n      <th>Fishka</th>\n      <th>Latitude</th>\n      <th>Longitude</th>\n      <th>Type</th>\n      <th>ChargingTime</th>\n    </tr>\n  </thead>\n  <tbody>\n    <tr>\n      <th>0</th>\n      <td>0</td>\n      <td>2021-01-01 00:05:34</td>\n      <td>2021-01-01 00:31:22</td>\n      <td>6.033</td>\n      <td>27.15</td>\n      <td>209</td>\n      <td>3</td>\n      <td>Type 2 Plug</td>\n      <td>False</td>\n      <td>553804960</td>\n      <td>4.50</td>\n      <td>NaN</td>\n      <td>True</td>\n      <td>50.431040</td>\n      <td>30.390370</td>\n      <td>FAST</td>\n      <td>25.80</td>\n    </tr>\n    <tr>\n      <th>1</th>\n      <td>1</td>\n      <td>2021-01-01 01:40:37</td>\n      <td>2021-01-01 01:42:19</td>\n      <td>0.890</td>\n      <td>6.22</td>\n      <td>111</td>\n      <td>1</td>\n      <td>CHAdeMO</td>\n      <td>False</td>\n      <td>550843379</td>\n      <td>6.99</td>\n      <td>NaN</td>\n      <td>True</td>\n      <td>50.482070</td>\n      <td>30.487250</td>\n      <td>FAST</td>\n      <td>1.70</td>\n    </tr>\n    <tr>\n      <th>2</th>\n      <td>2</td>\n      <td>2021-01-01 02:12:35</td>\n      <td>2021-01-01 03:07:36</td>\n      <td>3.300</td>\n      <td>14.85</td>\n      <td>147</td>\n      <td>1</td>\n      <td>Type 2</td>\n      <td>False</td>\n      <td>540085134</td>\n      <td>4.50</td>\n      <td>NaN</td>\n      <td>True</td>\n      <td>49.247780</td>\n      <td>23.856100</td>\n      <td>SLOW</td>\n      <td>55.02</td>\n    </tr>\n    <tr>\n      <th>3</th>\n      <td>3</td>\n      <td>2021-01-01 02:32:21</td>\n      <td>2021-01-01 02:57:08</td>\n      <td>6.880</td>\n      <td>48.09</td>\n      <td>111</td>\n      <td>1</td>\n      <td>CHAdeMO</td>\n      <td>False</td>\n      <td>828881697</td>\n      <td>6.99</td>\n      <td>NaN</td>\n      <td>True</td>\n      <td>50.482070</td>\n      <td>30.487250</td>\n      <td>FAST</td>\n      <td>24.78</td>\n    </tr>\n    <tr>\n      <th>4</th>\n      <td>4</td>\n      <td>2021-01-01 03:39:03</td>\n      <td>2021-01-01 04:02:05</td>\n      <td>12.630</td>\n      <td>56.84</td>\n      <td>209</td>\n      <td>3</td>\n      <td>Type 2 Plug</td>\n      <td>False</td>\n      <td>553804960</td>\n      <td>4.50</td>\n      <td>NaN</td>\n      <td>True</td>\n      <td>50.431040</td>\n      <td>30.390370</td>\n      <td>FAST</td>\n      <td>23.03</td>\n    </tr>\n    <tr>\n      <th>...</th>\n      <td>...</td>\n      <td>...</td>\n      <td>...</td>\n      <td>...</td>\n      <td>...</td>\n      <td>...</td>\n      <td>...</td>\n      <td>...</td>\n      <td>...</td>\n      <td>...</td>\n      <td>...</td>\n      <td>...</td>\n      <td>...</td>\n      <td>...</td>\n      <td>...</td>\n      <td>...</td>\n      <td>...</td>\n    </tr>\n    <tr>\n      <th>177751</th>\n      <td>371666</td>\n      <td>2024-10-31 09:34:21</td>\n      <td>2024-10-31 10:37:24</td>\n      <td>73.572</td>\n      <td>1249.99</td>\n      <td>561</td>\n      <td>2</td>\n      <td>CCS 2/GBT DC</td>\n      <td>False</td>\n      <td>857230274</td>\n      <td>16.99</td>\n      <td>89.0</td>\n      <td>NaN</td>\n      <td>50.672440</td>\n      <td>26.271480</td>\n      <td>ULTRAFAST</td>\n      <td>63.05</td>\n    </tr>\n    <tr>\n      <th>177752</th>\n      <td>371667</td>\n      <td>2024-10-31 09:36:14</td>\n      <td>2024-10-31 10:01:05</td>\n      <td>36.793</td>\n      <td>625.11</td>\n      <td>550</td>\n      <td>1</td>\n      <td>CCS 2</td>\n      <td>False</td>\n      <td>503412773</td>\n      <td>16.99</td>\n      <td>119.0</td>\n      <td>NaN</td>\n      <td>50.319615</td>\n      <td>31.033856</td>\n      <td>ULTRAFAST</td>\n      <td>24.85</td>\n    </tr>\n    <tr>\n      <th>177753</th>\n      <td>371668</td>\n      <td>2024-10-31 09:36:48</td>\n      <td>2024-10-31 09:43:43</td>\n      <td>1.500</td>\n      <td>23.98</td>\n      <td>583</td>\n      <td>2</td>\n      <td>CHAdeMO</td>\n      <td>False</td>\n      <td>548310042</td>\n      <td>15.99</td>\n      <td>23.0</td>\n      <td>True</td>\n      <td>46.479330</td>\n      <td>30.690400</td>\n      <td>FAST</td>\n      <td>6.92</td>\n    </tr>\n    <tr>\n      <th>177754</th>\n      <td>371669</td>\n      <td>2024-10-31 09:37:47</td>\n      <td>2024-10-31 14:01:29</td>\n      <td>16.051</td>\n      <td>208.50</td>\n      <td>989</td>\n      <td>1</td>\n      <td>Type 2/Type 1</td>\n      <td>False</td>\n      <td>544211695</td>\n      <td>12.99</td>\n      <td>3.0</td>\n      <td>True</td>\n      <td>50.533780</td>\n      <td>30.608210</td>\n      <td>SLOW</td>\n      <td>263.70</td>\n    </tr>\n    <tr>\n      <th>177755</th>\n      <td>371670</td>\n      <td>2024-10-31 09:38:16</td>\n      <td>2024-10-31 10:19:57</td>\n      <td>5.060</td>\n      <td>65.73</td>\n      <td>578</td>\n      <td>3</td>\n      <td>Type 2 Plug</td>\n      <td>False</td>\n      <td>862095174</td>\n      <td>12.99</td>\n      <td>7.0</td>\n      <td>True</td>\n      <td>48.567394</td>\n      <td>30.232208</td>\n      <td>ULTRAFAST</td>\n      <td>41.68</td>\n    </tr>\n  </tbody>\n</table>\n<p>177756 rows × 17 columns</p>\n</div>"
     },
     "execution_count": 16,
     "metadata": {},
     "output_type": "execute_result"
    }
   ],
   "source": [
    "df"
   ],
   "metadata": {
    "collapsed": false,
    "ExecuteTime": {
     "end_time": "2024-12-17T13:11:30.469128Z",
     "start_time": "2024-12-17T13:11:30.455624Z"
    }
   },
   "id": "c877eb66fb206938"
  },
  {
   "cell_type": "code",
   "execution_count": 18,
   "outputs": [
    {
     "name": "stderr",
     "output_type": "stream",
     "text": [
      "/Users/levkupybida/Documents/GitHub/ArtficialInteligenceCourseProject/data_prep.py:394: FutureWarning: The behavior of DataFrame concatenation with empty or all-NA entries is deprecated. In a future version, this will no longer exclude empty or all-NA columns when determining the result dtypes. To retain the old behavior, exclude the relevant entries before the concat operation.\n",
      "  combined_df = pd.concat(dataframes, axis=0, ignore_index=True)\n"
     ]
    },
    {
     "data": {
      "text/plain": "                        time       kWh   Latitude  Longitude  InternalNum  \\\n0        2021-01-03 15:00:00  4.034482  48.360587   35.02671   23460200.0   \n1        2021-01-03 16:00:00  6.331358  48.360587   35.02671   23460200.0   \n2        2021-01-03 17:00:00  4.474160  48.360587   35.02671   23460200.0   \n3        2021-01-03 18:00:00  0.000000  48.360587   35.02671   23460200.0   \n4        2021-01-03 19:00:00  0.000000  48.360587   35.02671   23460200.0   \n...                      ...       ...        ...        ...          ...   \n1488721  2024-10-30 02:00:00  7.284039  50.863200   24.16308   40115300.0   \n1488722  2024-10-30 03:00:00  7.284039  50.863200   24.16308   40115300.0   \n1488723  2024-10-30 04:00:00  7.284039  50.863200   24.16308   40115300.0   \n1488724  2024-10-30 05:00:00  0.833618  50.863200   24.16308   40115300.0   \n1488725  2024-10-30 06:00:00  0.000000  50.863200   24.16308   40115300.0   \n\n                        date  temperature_2m  dew_point_2m       rain  \\\n0        2021-01-03 00:00:00        1.558500      1.358500  -1.521764   \n1        2021-01-03 01:00:00        1.808500      1.608500  -1.281033   \n2        2021-01-03 02:00:00        2.008500      1.808500  -1.033041   \n3        2021-01-03 03:00:00        2.258500      1.908500  -0.778070   \n4        2021-01-03 04:00:00        2.108500      1.808500  -1.033458   \n...                      ...             ...           ...        ...   \n1488721  2024-10-29 12:00:00       13.134500      9.884500  11.831377   \n1488722  2024-10-29 13:00:00       13.234500     10.334500  12.034653   \n1488723  2024-10-29 14:00:00       13.184501     10.534500  12.151365   \n1488724  2024-10-29 15:00:00       13.834500     10.434501  12.696188   \n1488725  2024-10-29 16:00:00       13.134500     10.934501  12.768162   \n\n          snowfall  ...  precipitation  showers  snow_depth  weathercode  \\\n0        98.577095  ...            0.0      2.0        62.0     8.049845   \n1        98.579970  ...            0.0      3.0       100.0     8.404284   \n2        98.582280  ...            0.0      1.0        43.0     8.311245   \n3        97.535675  ...            0.0      3.0        93.0     8.396570   \n4        97.881836  ...            0.0      3.0        85.0     9.000000   \n...            ...  ...            ...      ...         ...          ...   \n1488721  80.665120  ...            0.0      3.0       100.0     8.821836   \n1488722  82.587700  ...            0.0      3.0       100.0     9.000000   \n1488723  83.969750  ...            0.0     51.0       100.0     8.258451   \n1488724  79.956955  ...            0.0      3.0       100.0     8.777653   \n1488725  86.515640  ...            0.0      3.0       100.0     4.503598   \n\n         cloudcover  windspeed_10m  winddirection_10m  shortwave_radiation  \\\n0         169.69520            0.0                0.0           1015.25740   \n1         170.13426            0.0                0.0           1015.46810   \n2         162.34980            0.0                0.0           1015.77480   \n3         149.03632            0.0                0.0           1015.88680   \n4         143.13002            0.0                0.0           1015.97723   \n...             ...            ...                ...                  ...   \n1488721   268.83090          208.0               80.0           1001.74347   \n1488722   286.26028          122.0               29.0           1001.65340   \n1488723   286.46008           83.0                0.0           1001.55150   \n1488724   285.46127          135.0               47.0           1001.60200   \n1488725   272.29056           40.0                0.0           1001.35223   \n\n         surface_pressure  visibility  \n0                     0.0         0.0  \n1                     0.0         0.0  \n2                     0.0         0.0  \n3                     0.0         0.0  \n4                     0.0         0.0  \n...                   ...         ...  \n1488721               0.0         0.0  \n1488722               0.0         0.0  \n1488723               0.1         0.0  \n1488724               0.0         0.0  \n1488725               0.0         0.0  \n\n[1488726 rows x 22 columns]",
      "text/html": "<div>\n<style scoped>\n    .dataframe tbody tr th:only-of-type {\n        vertical-align: middle;\n    }\n\n    .dataframe tbody tr th {\n        vertical-align: top;\n    }\n\n    .dataframe thead th {\n        text-align: right;\n    }\n</style>\n<table border=\"1\" class=\"dataframe\">\n  <thead>\n    <tr style=\"text-align: right;\">\n      <th></th>\n      <th>time</th>\n      <th>kWh</th>\n      <th>Latitude</th>\n      <th>Longitude</th>\n      <th>InternalNum</th>\n      <th>date</th>\n      <th>temperature_2m</th>\n      <th>dew_point_2m</th>\n      <th>rain</th>\n      <th>snowfall</th>\n      <th>...</th>\n      <th>precipitation</th>\n      <th>showers</th>\n      <th>snow_depth</th>\n      <th>weathercode</th>\n      <th>cloudcover</th>\n      <th>windspeed_10m</th>\n      <th>winddirection_10m</th>\n      <th>shortwave_radiation</th>\n      <th>surface_pressure</th>\n      <th>visibility</th>\n    </tr>\n  </thead>\n  <tbody>\n    <tr>\n      <th>0</th>\n      <td>2021-01-03 15:00:00</td>\n      <td>4.034482</td>\n      <td>48.360587</td>\n      <td>35.02671</td>\n      <td>23460200.0</td>\n      <td>2021-01-03 00:00:00</td>\n      <td>1.558500</td>\n      <td>1.358500</td>\n      <td>-1.521764</td>\n      <td>98.577095</td>\n      <td>...</td>\n      <td>0.0</td>\n      <td>2.0</td>\n      <td>62.0</td>\n      <td>8.049845</td>\n      <td>169.69520</td>\n      <td>0.0</td>\n      <td>0.0</td>\n      <td>1015.25740</td>\n      <td>0.0</td>\n      <td>0.0</td>\n    </tr>\n    <tr>\n      <th>1</th>\n      <td>2021-01-03 16:00:00</td>\n      <td>6.331358</td>\n      <td>48.360587</td>\n      <td>35.02671</td>\n      <td>23460200.0</td>\n      <td>2021-01-03 01:00:00</td>\n      <td>1.808500</td>\n      <td>1.608500</td>\n      <td>-1.281033</td>\n      <td>98.579970</td>\n      <td>...</td>\n      <td>0.0</td>\n      <td>3.0</td>\n      <td>100.0</td>\n      <td>8.404284</td>\n      <td>170.13426</td>\n      <td>0.0</td>\n      <td>0.0</td>\n      <td>1015.46810</td>\n      <td>0.0</td>\n      <td>0.0</td>\n    </tr>\n    <tr>\n      <th>2</th>\n      <td>2021-01-03 17:00:00</td>\n      <td>4.474160</td>\n      <td>48.360587</td>\n      <td>35.02671</td>\n      <td>23460200.0</td>\n      <td>2021-01-03 02:00:00</td>\n      <td>2.008500</td>\n      <td>1.808500</td>\n      <td>-1.033041</td>\n      <td>98.582280</td>\n      <td>...</td>\n      <td>0.0</td>\n      <td>1.0</td>\n      <td>43.0</td>\n      <td>8.311245</td>\n      <td>162.34980</td>\n      <td>0.0</td>\n      <td>0.0</td>\n      <td>1015.77480</td>\n      <td>0.0</td>\n      <td>0.0</td>\n    </tr>\n    <tr>\n      <th>3</th>\n      <td>2021-01-03 18:00:00</td>\n      <td>0.000000</td>\n      <td>48.360587</td>\n      <td>35.02671</td>\n      <td>23460200.0</td>\n      <td>2021-01-03 03:00:00</td>\n      <td>2.258500</td>\n      <td>1.908500</td>\n      <td>-0.778070</td>\n      <td>97.535675</td>\n      <td>...</td>\n      <td>0.0</td>\n      <td>3.0</td>\n      <td>93.0</td>\n      <td>8.396570</td>\n      <td>149.03632</td>\n      <td>0.0</td>\n      <td>0.0</td>\n      <td>1015.88680</td>\n      <td>0.0</td>\n      <td>0.0</td>\n    </tr>\n    <tr>\n      <th>4</th>\n      <td>2021-01-03 19:00:00</td>\n      <td>0.000000</td>\n      <td>48.360587</td>\n      <td>35.02671</td>\n      <td>23460200.0</td>\n      <td>2021-01-03 04:00:00</td>\n      <td>2.108500</td>\n      <td>1.808500</td>\n      <td>-1.033458</td>\n      <td>97.881836</td>\n      <td>...</td>\n      <td>0.0</td>\n      <td>3.0</td>\n      <td>85.0</td>\n      <td>9.000000</td>\n      <td>143.13002</td>\n      <td>0.0</td>\n      <td>0.0</td>\n      <td>1015.97723</td>\n      <td>0.0</td>\n      <td>0.0</td>\n    </tr>\n    <tr>\n      <th>...</th>\n      <td>...</td>\n      <td>...</td>\n      <td>...</td>\n      <td>...</td>\n      <td>...</td>\n      <td>...</td>\n      <td>...</td>\n      <td>...</td>\n      <td>...</td>\n      <td>...</td>\n      <td>...</td>\n      <td>...</td>\n      <td>...</td>\n      <td>...</td>\n      <td>...</td>\n      <td>...</td>\n      <td>...</td>\n      <td>...</td>\n      <td>...</td>\n      <td>...</td>\n      <td>...</td>\n    </tr>\n    <tr>\n      <th>1488721</th>\n      <td>2024-10-30 02:00:00</td>\n      <td>7.284039</td>\n      <td>50.863200</td>\n      <td>24.16308</td>\n      <td>40115300.0</td>\n      <td>2024-10-29 12:00:00</td>\n      <td>13.134500</td>\n      <td>9.884500</td>\n      <td>11.831377</td>\n      <td>80.665120</td>\n      <td>...</td>\n      <td>0.0</td>\n      <td>3.0</td>\n      <td>100.0</td>\n      <td>8.821836</td>\n      <td>268.83090</td>\n      <td>208.0</td>\n      <td>80.0</td>\n      <td>1001.74347</td>\n      <td>0.0</td>\n      <td>0.0</td>\n    </tr>\n    <tr>\n      <th>1488722</th>\n      <td>2024-10-30 03:00:00</td>\n      <td>7.284039</td>\n      <td>50.863200</td>\n      <td>24.16308</td>\n      <td>40115300.0</td>\n      <td>2024-10-29 13:00:00</td>\n      <td>13.234500</td>\n      <td>10.334500</td>\n      <td>12.034653</td>\n      <td>82.587700</td>\n      <td>...</td>\n      <td>0.0</td>\n      <td>3.0</td>\n      <td>100.0</td>\n      <td>9.000000</td>\n      <td>286.26028</td>\n      <td>122.0</td>\n      <td>29.0</td>\n      <td>1001.65340</td>\n      <td>0.0</td>\n      <td>0.0</td>\n    </tr>\n    <tr>\n      <th>1488723</th>\n      <td>2024-10-30 04:00:00</td>\n      <td>7.284039</td>\n      <td>50.863200</td>\n      <td>24.16308</td>\n      <td>40115300.0</td>\n      <td>2024-10-29 14:00:00</td>\n      <td>13.184501</td>\n      <td>10.534500</td>\n      <td>12.151365</td>\n      <td>83.969750</td>\n      <td>...</td>\n      <td>0.0</td>\n      <td>51.0</td>\n      <td>100.0</td>\n      <td>8.258451</td>\n      <td>286.46008</td>\n      <td>83.0</td>\n      <td>0.0</td>\n      <td>1001.55150</td>\n      <td>0.1</td>\n      <td>0.0</td>\n    </tr>\n    <tr>\n      <th>1488724</th>\n      <td>2024-10-30 05:00:00</td>\n      <td>0.833618</td>\n      <td>50.863200</td>\n      <td>24.16308</td>\n      <td>40115300.0</td>\n      <td>2024-10-29 15:00:00</td>\n      <td>13.834500</td>\n      <td>10.434501</td>\n      <td>12.696188</td>\n      <td>79.956955</td>\n      <td>...</td>\n      <td>0.0</td>\n      <td>3.0</td>\n      <td>100.0</td>\n      <td>8.777653</td>\n      <td>285.46127</td>\n      <td>135.0</td>\n      <td>47.0</td>\n      <td>1001.60200</td>\n      <td>0.0</td>\n      <td>0.0</td>\n    </tr>\n    <tr>\n      <th>1488725</th>\n      <td>2024-10-30 06:00:00</td>\n      <td>0.000000</td>\n      <td>50.863200</td>\n      <td>24.16308</td>\n      <td>40115300.0</td>\n      <td>2024-10-29 16:00:00</td>\n      <td>13.134500</td>\n      <td>10.934501</td>\n      <td>12.768162</td>\n      <td>86.515640</td>\n      <td>...</td>\n      <td>0.0</td>\n      <td>3.0</td>\n      <td>100.0</td>\n      <td>4.503598</td>\n      <td>272.29056</td>\n      <td>40.0</td>\n      <td>0.0</td>\n      <td>1001.35223</td>\n      <td>0.0</td>\n      <td>0.0</td>\n    </tr>\n  </tbody>\n</table>\n<p>1488726 rows × 22 columns</p>\n</div>"
     },
     "execution_count": 18,
     "metadata": {},
     "output_type": "execute_result"
    }
   ],
   "source": [
    "from data_prep import concat_csv_files\n",
    "\n",
    "combdf = concat_csv_files('data/clean/azk')\n",
    "combdf"
   ],
   "metadata": {
    "collapsed": false,
    "ExecuteTime": {
     "end_time": "2024-12-17T18:23:50.047329Z",
     "start_time": "2024-12-17T18:23:46.899598Z"
    }
   },
   "id": "99007e79d0874a1d"
  },
  {
   "cell_type": "code",
   "execution_count": 28,
   "outputs": [],
   "source": [
    "from data_prep import optimized_weathered_df\n",
    "\n",
    "df = optimized_weathered_df()"
   ],
   "metadata": {
    "collapsed": false,
    "ExecuteTime": {
     "end_time": "2024-12-18T12:15:30.168796Z",
     "start_time": "2024-12-18T12:15:28.126879Z"
    }
   },
   "id": "f38991afe538781e"
  },
  {
   "cell_type": "code",
   "execution_count": 8,
   "outputs": [],
   "source": [
    "train, test = train_test(df)\n",
    "train, valid = train_test(train)"
   ],
   "metadata": {
    "collapsed": false,
    "ExecuteTime": {
     "end_time": "2024-12-17T21:28:27.171735Z",
     "start_time": "2024-12-17T21:28:26.614658Z"
    }
   },
   "id": "f8fd817bfe783aa0"
  },
  {
   "cell_type": "code",
   "execution_count": 27,
   "outputs": [
    {
     "data": {
      "text/plain": "                   datetime   Latitude  Longitude InternalNum  temperature_2m  \\\n1076789 2021-06-30 15:00:00  50.221161  32.517181    60260500       26.409000   \n73078   2021-09-04 14:00:00  49.247780  23.856100    40112300       17.663000   \n1499388 2023-09-08 20:00:00  50.533779  30.608210    60960400       17.462500   \n970550  2023-10-26 22:00:00  50.672440  26.271481    40611700       11.896000   \n650591  2021-10-06 00:00:00  49.956051  36.110870    60160400        8.727500   \n...                     ...        ...        ...         ...             ...   \n705613  2021-04-28 13:00:00  51.316330  26.619650    40660900       10.750000   \n797241  2023-01-26 21:00:00  49.177181  23.770170    40113200       -1.504500   \n1419944 2024-04-25 08:00:00  49.960541  23.146099    40111700        5.834500   \n613177  2023-08-11 23:00:00  50.354504  30.435675    40861500       19.018002   \n1409356 2023-02-09 03:00:00  49.960541  23.146099    40111700       -9.465500   \n\n         dew_point_2m       rain   snowfall  apparent_temperature  \\\n1076789     13.559000  26.496426  45.107582              0.000000   \n73078       14.162999  17.160629  79.964272              0.099976   \n1499388      8.362500  15.802397  55.144943              0.000000   \n970550      11.046000  10.358202  94.534050              0.899902   \n650591       4.377500   5.436071  74.145981              0.000000   \n...               ...        ...        ...                   ...   \n705613      -1.550000   7.643031  42.329624              0.000000   \n797241      -5.504500  -6.033277  74.182159              0.000000   \n1419944      4.384500   2.186676  90.405273              0.000000   \n613177      12.818000  17.887199  67.294090              0.000000   \n1409356    -11.815499 -14.313638  82.995239              0.000000   \n\n         relative_humidity_2m  ...  showers  snow_depth  weathercode  \\\n1076789                   0.0  ...      2.0        69.0     7.208994   \n73078                     0.0  ...     51.0        69.0    12.768586   \n1499388                   0.0  ...      0.0         4.0     8.435069   \n970550                    0.0  ...     53.0        99.0    12.768586   \n650591                    0.0  ...      1.0        46.0    13.339445   \n...                       ...  ...      ...         ...          ...   \n705613                    0.0  ...      3.0        88.0     8.905908   \n797241                    0.0  ...      3.0        98.0    11.592895   \n1419944                   0.0  ...      3.0       100.0    15.790833   \n613177                    0.0  ...      3.0       100.0    13.849477   \n1409356                   0.0  ...      0.0         0.0    10.009036   \n\n        cloudcover  windspeed_10m  winddirection_10m  shortwave_radiation  \\\n1076789    272.750          496.0              225.0           997.655945   \n73078      338.500          523.0              350.0           982.671021   \n1499388    320.250            5.0                1.0          1008.369934   \n970550     220.375            0.0                0.0           971.593262   \n650591      93.125            0.0                0.0          1022.000427   \n...            ...            ...                ...                  ...   \n705613     194.000          642.0              297.0           999.788696   \n797241     115.750            0.0                0.0           979.994507   \n1419944    245.750           39.0                0.0           980.955688   \n613177     332.000            0.0                0.0           994.871460   \n1409356    142.250            0.0                0.0          1016.798401   \n\n         surface_pressure  visibility       kWh  \n1076789          0.000000         0.0  0.000000  \n73078            0.099976         0.0  1.080649  \n1499388          0.000000         0.0  0.028855  \n970550           0.899902         0.0  0.000000  \n650591           0.000000         0.0  0.000000  \n...                   ...         ...       ...  \n705613           0.000000         0.0  0.000000  \n797241           0.000000         0.0  0.000000  \n1419944          0.000000         0.0  0.000000  \n613177           0.000000         0.0  0.000000  \n1409356          0.000000         0.0  0.000000  \n\n[310777 rows x 21 columns]",
      "text/html": "<div>\n<style scoped>\n    .dataframe tbody tr th:only-of-type {\n        vertical-align: middle;\n    }\n\n    .dataframe tbody tr th {\n        vertical-align: top;\n    }\n\n    .dataframe thead th {\n        text-align: right;\n    }\n</style>\n<table border=\"1\" class=\"dataframe\">\n  <thead>\n    <tr style=\"text-align: right;\">\n      <th></th>\n      <th>datetime</th>\n      <th>Latitude</th>\n      <th>Longitude</th>\n      <th>InternalNum</th>\n      <th>temperature_2m</th>\n      <th>dew_point_2m</th>\n      <th>rain</th>\n      <th>snowfall</th>\n      <th>apparent_temperature</th>\n      <th>relative_humidity_2m</th>\n      <th>...</th>\n      <th>showers</th>\n      <th>snow_depth</th>\n      <th>weathercode</th>\n      <th>cloudcover</th>\n      <th>windspeed_10m</th>\n      <th>winddirection_10m</th>\n      <th>shortwave_radiation</th>\n      <th>surface_pressure</th>\n      <th>visibility</th>\n      <th>kWh</th>\n    </tr>\n  </thead>\n  <tbody>\n    <tr>\n      <th>1076789</th>\n      <td>2021-06-30 15:00:00</td>\n      <td>50.221161</td>\n      <td>32.517181</td>\n      <td>60260500</td>\n      <td>26.409000</td>\n      <td>13.559000</td>\n      <td>26.496426</td>\n      <td>45.107582</td>\n      <td>0.000000</td>\n      <td>0.0</td>\n      <td>...</td>\n      <td>2.0</td>\n      <td>69.0</td>\n      <td>7.208994</td>\n      <td>272.750</td>\n      <td>496.0</td>\n      <td>225.0</td>\n      <td>997.655945</td>\n      <td>0.000000</td>\n      <td>0.0</td>\n      <td>0.000000</td>\n    </tr>\n    <tr>\n      <th>73078</th>\n      <td>2021-09-04 14:00:00</td>\n      <td>49.247780</td>\n      <td>23.856100</td>\n      <td>40112300</td>\n      <td>17.663000</td>\n      <td>14.162999</td>\n      <td>17.160629</td>\n      <td>79.964272</td>\n      <td>0.099976</td>\n      <td>0.0</td>\n      <td>...</td>\n      <td>51.0</td>\n      <td>69.0</td>\n      <td>12.768586</td>\n      <td>338.500</td>\n      <td>523.0</td>\n      <td>350.0</td>\n      <td>982.671021</td>\n      <td>0.099976</td>\n      <td>0.0</td>\n      <td>1.080649</td>\n    </tr>\n    <tr>\n      <th>1499388</th>\n      <td>2023-09-08 20:00:00</td>\n      <td>50.533779</td>\n      <td>30.608210</td>\n      <td>60960400</td>\n      <td>17.462500</td>\n      <td>8.362500</td>\n      <td>15.802397</td>\n      <td>55.144943</td>\n      <td>0.000000</td>\n      <td>0.0</td>\n      <td>...</td>\n      <td>0.0</td>\n      <td>4.0</td>\n      <td>8.435069</td>\n      <td>320.250</td>\n      <td>5.0</td>\n      <td>1.0</td>\n      <td>1008.369934</td>\n      <td>0.000000</td>\n      <td>0.0</td>\n      <td>0.028855</td>\n    </tr>\n    <tr>\n      <th>970550</th>\n      <td>2023-10-26 22:00:00</td>\n      <td>50.672440</td>\n      <td>26.271481</td>\n      <td>40611700</td>\n      <td>11.896000</td>\n      <td>11.046000</td>\n      <td>10.358202</td>\n      <td>94.534050</td>\n      <td>0.899902</td>\n      <td>0.0</td>\n      <td>...</td>\n      <td>53.0</td>\n      <td>99.0</td>\n      <td>12.768586</td>\n      <td>220.375</td>\n      <td>0.0</td>\n      <td>0.0</td>\n      <td>971.593262</td>\n      <td>0.899902</td>\n      <td>0.0</td>\n      <td>0.000000</td>\n    </tr>\n    <tr>\n      <th>650591</th>\n      <td>2021-10-06 00:00:00</td>\n      <td>49.956051</td>\n      <td>36.110870</td>\n      <td>60160400</td>\n      <td>8.727500</td>\n      <td>4.377500</td>\n      <td>5.436071</td>\n      <td>74.145981</td>\n      <td>0.000000</td>\n      <td>0.0</td>\n      <td>...</td>\n      <td>1.0</td>\n      <td>46.0</td>\n      <td>13.339445</td>\n      <td>93.125</td>\n      <td>0.0</td>\n      <td>0.0</td>\n      <td>1022.000427</td>\n      <td>0.000000</td>\n      <td>0.0</td>\n      <td>0.000000</td>\n    </tr>\n    <tr>\n      <th>...</th>\n      <td>...</td>\n      <td>...</td>\n      <td>...</td>\n      <td>...</td>\n      <td>...</td>\n      <td>...</td>\n      <td>...</td>\n      <td>...</td>\n      <td>...</td>\n      <td>...</td>\n      <td>...</td>\n      <td>...</td>\n      <td>...</td>\n      <td>...</td>\n      <td>...</td>\n      <td>...</td>\n      <td>...</td>\n      <td>...</td>\n      <td>...</td>\n      <td>...</td>\n      <td>...</td>\n    </tr>\n    <tr>\n      <th>705613</th>\n      <td>2021-04-28 13:00:00</td>\n      <td>51.316330</td>\n      <td>26.619650</td>\n      <td>40660900</td>\n      <td>10.750000</td>\n      <td>-1.550000</td>\n      <td>7.643031</td>\n      <td>42.329624</td>\n      <td>0.000000</td>\n      <td>0.0</td>\n      <td>...</td>\n      <td>3.0</td>\n      <td>88.0</td>\n      <td>8.905908</td>\n      <td>194.000</td>\n      <td>642.0</td>\n      <td>297.0</td>\n      <td>999.788696</td>\n      <td>0.000000</td>\n      <td>0.0</td>\n      <td>0.000000</td>\n    </tr>\n    <tr>\n      <th>797241</th>\n      <td>2023-01-26 21:00:00</td>\n      <td>49.177181</td>\n      <td>23.770170</td>\n      <td>40113200</td>\n      <td>-1.504500</td>\n      <td>-5.504500</td>\n      <td>-6.033277</td>\n      <td>74.182159</td>\n      <td>0.000000</td>\n      <td>0.0</td>\n      <td>...</td>\n      <td>3.0</td>\n      <td>98.0</td>\n      <td>11.592895</td>\n      <td>115.750</td>\n      <td>0.0</td>\n      <td>0.0</td>\n      <td>979.994507</td>\n      <td>0.000000</td>\n      <td>0.0</td>\n      <td>0.000000</td>\n    </tr>\n    <tr>\n      <th>1419944</th>\n      <td>2024-04-25 08:00:00</td>\n      <td>49.960541</td>\n      <td>23.146099</td>\n      <td>40111700</td>\n      <td>5.834500</td>\n      <td>4.384500</td>\n      <td>2.186676</td>\n      <td>90.405273</td>\n      <td>0.000000</td>\n      <td>0.0</td>\n      <td>...</td>\n      <td>3.0</td>\n      <td>100.0</td>\n      <td>15.790833</td>\n      <td>245.750</td>\n      <td>39.0</td>\n      <td>0.0</td>\n      <td>980.955688</td>\n      <td>0.000000</td>\n      <td>0.0</td>\n      <td>0.000000</td>\n    </tr>\n    <tr>\n      <th>613177</th>\n      <td>2023-08-11 23:00:00</td>\n      <td>50.354504</td>\n      <td>30.435675</td>\n      <td>40861500</td>\n      <td>19.018002</td>\n      <td>12.818000</td>\n      <td>17.887199</td>\n      <td>67.294090</td>\n      <td>0.000000</td>\n      <td>0.0</td>\n      <td>...</td>\n      <td>3.0</td>\n      <td>100.0</td>\n      <td>13.849477</td>\n      <td>332.000</td>\n      <td>0.0</td>\n      <td>0.0</td>\n      <td>994.871460</td>\n      <td>0.000000</td>\n      <td>0.0</td>\n      <td>0.000000</td>\n    </tr>\n    <tr>\n      <th>1409356</th>\n      <td>2023-02-09 03:00:00</td>\n      <td>49.960541</td>\n      <td>23.146099</td>\n      <td>40111700</td>\n      <td>-9.465500</td>\n      <td>-11.815499</td>\n      <td>-14.313638</td>\n      <td>82.995239</td>\n      <td>0.000000</td>\n      <td>0.0</td>\n      <td>...</td>\n      <td>0.0</td>\n      <td>0.0</td>\n      <td>10.009036</td>\n      <td>142.250</td>\n      <td>0.0</td>\n      <td>0.0</td>\n      <td>1016.798401</td>\n      <td>0.000000</td>\n      <td>0.0</td>\n      <td>0.000000</td>\n    </tr>\n  </tbody>\n</table>\n<p>310777 rows × 21 columns</p>\n</div>"
     },
     "execution_count": 27,
     "metadata": {},
     "output_type": "execute_result"
    }
   ],
   "source": [
    "test"
   ],
   "metadata": {
    "collapsed": false,
    "ExecuteTime": {
     "end_time": "2024-12-18T12:07:39.288754Z",
     "start_time": "2024-12-18T12:07:39.167347Z"
    }
   },
   "id": "a0ae7aa48a63c57e"
  },
  {
   "cell_type": "code",
   "execution_count": 22,
   "outputs": [
    {
     "data": {
      "text/plain": "HBox(children=(IntProgress(value=0, max=30), Label(value='0%')))",
      "application/vnd.jupyter.widget-view+json": {
       "version_major": 2,
       "version_minor": 0,
       "model_id": "5d92666dba73419c86d2d9e7f7b53fd6"
      }
     },
     "metadata": {},
     "output_type": "display_data"
    },
    {
     "name": "stdout",
     "output_type": "stream",
     "text": [
      "Best parameters for LGBM: {'n_estimators': 103, 'max_depth': 11, 'learning_rate': 0.08060457283983323, 'subsample': 0.6007978557619478, 'colsample_bytree': 0.7195199615003822, 'gamma': 1, 'lambda': 2.5045897938454433, 'alpha': 2.7789088833802875}\n",
      "Nested CV RMSE: 73.63653686523438\n",
      "Test set score: 0\n"
     ]
    }
   ],
   "source": [
    "features = ['Latitude', 'Longitude',\n",
    "            'temperature_2m', 'dew_point_2m', 'rain', 'snowfall',\n",
    "            'apparent_temperature', 'relative_humidity_2m', 'precipitation',\n",
    "            'showers', 'snow_depth', 'cloudcover', 'windspeed_10m',\n",
    "            'winddirection_10m', 'shortwave_radiation', 'surface_pressure',\n",
    "            'visibility']\n",
    "categorical = ['InternalNum', 'weathercode']\n",
    "study, best_model, cv_score, test_score = optimize_model('XGB', train, features, categorical, 30)"
   ],
   "metadata": {
    "collapsed": false,
    "ExecuteTime": {
     "end_time": "2024-12-17T23:25:15.978719Z",
     "start_time": "2024-12-17T23:04:10.152717Z"
    }
   },
   "id": "8446ec2553d5888f"
  },
  {
   "cell_type": "code",
   "execution_count": 23,
   "outputs": [],
   "source": [
    "X = train[features]\n",
    "y = train['kWh']"
   ],
   "metadata": {
    "collapsed": false,
    "ExecuteTime": {
     "end_time": "2024-12-17T23:25:16.055783Z",
     "start_time": "2024-12-17T23:25:15.977596Z"
    }
   },
   "id": "37a32a901915362"
  },
  {
   "cell_type": "code",
   "execution_count": 24,
   "outputs": [
    {
     "data": {
      "text/plain": "XGBRegressor(alpha=2.7789088833802875, base_score=None, booster=None,\n             callbacks=None, colsample_bylevel=None, colsample_bynode=None,\n             colsample_bytree=0.7195199615003822, device=None,\n             early_stopping_rounds=None, enable_categorical=True,\n             eval_metric=None, feature_types=None, gamma=1, grow_policy=None,\n             importance_type=None, interaction_constraints=None,\n             lambda=2.5045897938454433, learning_rate=0.08060457283983323,\n             max_bin=None, max_cat_threshold=None, max_cat_to_onehot=None,\n             max_delta_step=None, max_depth=11, max_leaves=None,\n             min_child_weight=None, missing=nan, monotone_constraints=None,\n             multi_strategy=None, n_estimators=103, n_jobs=None, ...)",
      "text/html": "<style>#sk-container-id-3 {\n  /* Definition of color scheme common for light and dark mode */\n  --sklearn-color-text: black;\n  --sklearn-color-line: gray;\n  /* Definition of color scheme for unfitted estimators */\n  --sklearn-color-unfitted-level-0: #fff5e6;\n  --sklearn-color-unfitted-level-1: #f6e4d2;\n  --sklearn-color-unfitted-level-2: #ffe0b3;\n  --sklearn-color-unfitted-level-3: chocolate;\n  /* Definition of color scheme for fitted estimators */\n  --sklearn-color-fitted-level-0: #f0f8ff;\n  --sklearn-color-fitted-level-1: #d4ebff;\n  --sklearn-color-fitted-level-2: #b3dbfd;\n  --sklearn-color-fitted-level-3: cornflowerblue;\n\n  /* Specific color for light theme */\n  --sklearn-color-text-on-default-background: var(--sg-text-color, var(--theme-code-foreground, var(--jp-content-font-color1, black)));\n  --sklearn-color-background: var(--sg-background-color, var(--theme-background, var(--jp-layout-color0, white)));\n  --sklearn-color-border-box: var(--sg-text-color, var(--theme-code-foreground, var(--jp-content-font-color1, black)));\n  --sklearn-color-icon: #696969;\n\n  @media (prefers-color-scheme: dark) {\n    /* Redefinition of color scheme for dark theme */\n    --sklearn-color-text-on-default-background: var(--sg-text-color, var(--theme-code-foreground, var(--jp-content-font-color1, white)));\n    --sklearn-color-background: var(--sg-background-color, var(--theme-background, var(--jp-layout-color0, #111)));\n    --sklearn-color-border-box: var(--sg-text-color, var(--theme-code-foreground, var(--jp-content-font-color1, white)));\n    --sklearn-color-icon: #878787;\n  }\n}\n\n#sk-container-id-3 {\n  color: var(--sklearn-color-text);\n}\n\n#sk-container-id-3 pre {\n  padding: 0;\n}\n\n#sk-container-id-3 input.sk-hidden--visually {\n  border: 0;\n  clip: rect(1px 1px 1px 1px);\n  clip: rect(1px, 1px, 1px, 1px);\n  height: 1px;\n  margin: -1px;\n  overflow: hidden;\n  padding: 0;\n  position: absolute;\n  width: 1px;\n}\n\n#sk-container-id-3 div.sk-dashed-wrapped {\n  border: 1px dashed var(--sklearn-color-line);\n  margin: 0 0.4em 0.5em 0.4em;\n  box-sizing: border-box;\n  padding-bottom: 0.4em;\n  background-color: var(--sklearn-color-background);\n}\n\n#sk-container-id-3 div.sk-container {\n  /* jupyter's `normalize.less` sets `[hidden] { display: none; }`\n     but bootstrap.min.css set `[hidden] { display: none !important; }`\n     so we also need the `!important` here to be able to override the\n     default hidden behavior on the sphinx rendered scikit-learn.org.\n     See: https://github.com/scikit-learn/scikit-learn/issues/21755 */\n  display: inline-block !important;\n  position: relative;\n}\n\n#sk-container-id-3 div.sk-text-repr-fallback {\n  display: none;\n}\n\ndiv.sk-parallel-item,\ndiv.sk-serial,\ndiv.sk-item {\n  /* draw centered vertical line to link estimators */\n  background-image: linear-gradient(var(--sklearn-color-text-on-default-background), var(--sklearn-color-text-on-default-background));\n  background-size: 2px 100%;\n  background-repeat: no-repeat;\n  background-position: center center;\n}\n\n/* Parallel-specific style estimator block */\n\n#sk-container-id-3 div.sk-parallel-item::after {\n  content: \"\";\n  width: 100%;\n  border-bottom: 2px solid var(--sklearn-color-text-on-default-background);\n  flex-grow: 1;\n}\n\n#sk-container-id-3 div.sk-parallel {\n  display: flex;\n  align-items: stretch;\n  justify-content: center;\n  background-color: var(--sklearn-color-background);\n  position: relative;\n}\n\n#sk-container-id-3 div.sk-parallel-item {\n  display: flex;\n  flex-direction: column;\n}\n\n#sk-container-id-3 div.sk-parallel-item:first-child::after {\n  align-self: flex-end;\n  width: 50%;\n}\n\n#sk-container-id-3 div.sk-parallel-item:last-child::after {\n  align-self: flex-start;\n  width: 50%;\n}\n\n#sk-container-id-3 div.sk-parallel-item:only-child::after {\n  width: 0;\n}\n\n/* Serial-specific style estimator block */\n\n#sk-container-id-3 div.sk-serial {\n  display: flex;\n  flex-direction: column;\n  align-items: center;\n  background-color: var(--sklearn-color-background);\n  padding-right: 1em;\n  padding-left: 1em;\n}\n\n\n/* Toggleable style: style used for estimator/Pipeline/ColumnTransformer box that is\nclickable and can be expanded/collapsed.\n- Pipeline and ColumnTransformer use this feature and define the default style\n- Estimators will overwrite some part of the style using the `sk-estimator` class\n*/\n\n/* Pipeline and ColumnTransformer style (default) */\n\n#sk-container-id-3 div.sk-toggleable {\n  /* Default theme specific background. It is overwritten whether we have a\n  specific estimator or a Pipeline/ColumnTransformer */\n  background-color: var(--sklearn-color-background);\n}\n\n/* Toggleable label */\n#sk-container-id-3 label.sk-toggleable__label {\n  cursor: pointer;\n  display: block;\n  width: 100%;\n  margin-bottom: 0;\n  padding: 0.5em;\n  box-sizing: border-box;\n  text-align: center;\n}\n\n#sk-container-id-3 label.sk-toggleable__label-arrow:before {\n  /* Arrow on the left of the label */\n  content: \"▸\";\n  float: left;\n  margin-right: 0.25em;\n  color: var(--sklearn-color-icon);\n}\n\n#sk-container-id-3 label.sk-toggleable__label-arrow:hover:before {\n  color: var(--sklearn-color-text);\n}\n\n/* Toggleable content - dropdown */\n\n#sk-container-id-3 div.sk-toggleable__content {\n  max-height: 0;\n  max-width: 0;\n  overflow: hidden;\n  text-align: left;\n  /* unfitted */\n  background-color: var(--sklearn-color-unfitted-level-0);\n}\n\n#sk-container-id-3 div.sk-toggleable__content.fitted {\n  /* fitted */\n  background-color: var(--sklearn-color-fitted-level-0);\n}\n\n#sk-container-id-3 div.sk-toggleable__content pre {\n  margin: 0.2em;\n  border-radius: 0.25em;\n  color: var(--sklearn-color-text);\n  /* unfitted */\n  background-color: var(--sklearn-color-unfitted-level-0);\n}\n\n#sk-container-id-3 div.sk-toggleable__content.fitted pre {\n  /* unfitted */\n  background-color: var(--sklearn-color-fitted-level-0);\n}\n\n#sk-container-id-3 input.sk-toggleable__control:checked~div.sk-toggleable__content {\n  /* Expand drop-down */\n  max-height: 200px;\n  max-width: 100%;\n  overflow: auto;\n}\n\n#sk-container-id-3 input.sk-toggleable__control:checked~label.sk-toggleable__label-arrow:before {\n  content: \"▾\";\n}\n\n/* Pipeline/ColumnTransformer-specific style */\n\n#sk-container-id-3 div.sk-label input.sk-toggleable__control:checked~label.sk-toggleable__label {\n  color: var(--sklearn-color-text);\n  background-color: var(--sklearn-color-unfitted-level-2);\n}\n\n#sk-container-id-3 div.sk-label.fitted input.sk-toggleable__control:checked~label.sk-toggleable__label {\n  background-color: var(--sklearn-color-fitted-level-2);\n}\n\n/* Estimator-specific style */\n\n/* Colorize estimator box */\n#sk-container-id-3 div.sk-estimator input.sk-toggleable__control:checked~label.sk-toggleable__label {\n  /* unfitted */\n  background-color: var(--sklearn-color-unfitted-level-2);\n}\n\n#sk-container-id-3 div.sk-estimator.fitted input.sk-toggleable__control:checked~label.sk-toggleable__label {\n  /* fitted */\n  background-color: var(--sklearn-color-fitted-level-2);\n}\n\n#sk-container-id-3 div.sk-label label.sk-toggleable__label,\n#sk-container-id-3 div.sk-label label {\n  /* The background is the default theme color */\n  color: var(--sklearn-color-text-on-default-background);\n}\n\n/* On hover, darken the color of the background */\n#sk-container-id-3 div.sk-label:hover label.sk-toggleable__label {\n  color: var(--sklearn-color-text);\n  background-color: var(--sklearn-color-unfitted-level-2);\n}\n\n/* Label box, darken color on hover, fitted */\n#sk-container-id-3 div.sk-label.fitted:hover label.sk-toggleable__label.fitted {\n  color: var(--sklearn-color-text);\n  background-color: var(--sklearn-color-fitted-level-2);\n}\n\n/* Estimator label */\n\n#sk-container-id-3 div.sk-label label {\n  font-family: monospace;\n  font-weight: bold;\n  display: inline-block;\n  line-height: 1.2em;\n}\n\n#sk-container-id-3 div.sk-label-container {\n  text-align: center;\n}\n\n/* Estimator-specific */\n#sk-container-id-3 div.sk-estimator {\n  font-family: monospace;\n  border: 1px dotted var(--sklearn-color-border-box);\n  border-radius: 0.25em;\n  box-sizing: border-box;\n  margin-bottom: 0.5em;\n  /* unfitted */\n  background-color: var(--sklearn-color-unfitted-level-0);\n}\n\n#sk-container-id-3 div.sk-estimator.fitted {\n  /* fitted */\n  background-color: var(--sklearn-color-fitted-level-0);\n}\n\n/* on hover */\n#sk-container-id-3 div.sk-estimator:hover {\n  /* unfitted */\n  background-color: var(--sklearn-color-unfitted-level-2);\n}\n\n#sk-container-id-3 div.sk-estimator.fitted:hover {\n  /* fitted */\n  background-color: var(--sklearn-color-fitted-level-2);\n}\n\n/* Specification for estimator info (e.g. \"i\" and \"?\") */\n\n/* Common style for \"i\" and \"?\" */\n\n.sk-estimator-doc-link,\na:link.sk-estimator-doc-link,\na:visited.sk-estimator-doc-link {\n  float: right;\n  font-size: smaller;\n  line-height: 1em;\n  font-family: monospace;\n  background-color: var(--sklearn-color-background);\n  border-radius: 1em;\n  height: 1em;\n  width: 1em;\n  text-decoration: none !important;\n  margin-left: 1ex;\n  /* unfitted */\n  border: var(--sklearn-color-unfitted-level-1) 1pt solid;\n  color: var(--sklearn-color-unfitted-level-1);\n}\n\n.sk-estimator-doc-link.fitted,\na:link.sk-estimator-doc-link.fitted,\na:visited.sk-estimator-doc-link.fitted {\n  /* fitted */\n  border: var(--sklearn-color-fitted-level-1) 1pt solid;\n  color: var(--sklearn-color-fitted-level-1);\n}\n\n/* On hover */\ndiv.sk-estimator:hover .sk-estimator-doc-link:hover,\n.sk-estimator-doc-link:hover,\ndiv.sk-label-container:hover .sk-estimator-doc-link:hover,\n.sk-estimator-doc-link:hover {\n  /* unfitted */\n  background-color: var(--sklearn-color-unfitted-level-3);\n  color: var(--sklearn-color-background);\n  text-decoration: none;\n}\n\ndiv.sk-estimator.fitted:hover .sk-estimator-doc-link.fitted:hover,\n.sk-estimator-doc-link.fitted:hover,\ndiv.sk-label-container:hover .sk-estimator-doc-link.fitted:hover,\n.sk-estimator-doc-link.fitted:hover {\n  /* fitted */\n  background-color: var(--sklearn-color-fitted-level-3);\n  color: var(--sklearn-color-background);\n  text-decoration: none;\n}\n\n/* Span, style for the box shown on hovering the info icon */\n.sk-estimator-doc-link span {\n  display: none;\n  z-index: 9999;\n  position: relative;\n  font-weight: normal;\n  right: .2ex;\n  padding: .5ex;\n  margin: .5ex;\n  width: min-content;\n  min-width: 20ex;\n  max-width: 50ex;\n  color: var(--sklearn-color-text);\n  box-shadow: 2pt 2pt 4pt #999;\n  /* unfitted */\n  background: var(--sklearn-color-unfitted-level-0);\n  border: .5pt solid var(--sklearn-color-unfitted-level-3);\n}\n\n.sk-estimator-doc-link.fitted span {\n  /* fitted */\n  background: var(--sklearn-color-fitted-level-0);\n  border: var(--sklearn-color-fitted-level-3);\n}\n\n.sk-estimator-doc-link:hover span {\n  display: block;\n}\n\n/* \"?\"-specific style due to the `<a>` HTML tag */\n\n#sk-container-id-3 a.estimator_doc_link {\n  float: right;\n  font-size: 1rem;\n  line-height: 1em;\n  font-family: monospace;\n  background-color: var(--sklearn-color-background);\n  border-radius: 1rem;\n  height: 1rem;\n  width: 1rem;\n  text-decoration: none;\n  /* unfitted */\n  color: var(--sklearn-color-unfitted-level-1);\n  border: var(--sklearn-color-unfitted-level-1) 1pt solid;\n}\n\n#sk-container-id-3 a.estimator_doc_link.fitted {\n  /* fitted */\n  border: var(--sklearn-color-fitted-level-1) 1pt solid;\n  color: var(--sklearn-color-fitted-level-1);\n}\n\n/* On hover */\n#sk-container-id-3 a.estimator_doc_link:hover {\n  /* unfitted */\n  background-color: var(--sklearn-color-unfitted-level-3);\n  color: var(--sklearn-color-background);\n  text-decoration: none;\n}\n\n#sk-container-id-3 a.estimator_doc_link.fitted:hover {\n  /* fitted */\n  background-color: var(--sklearn-color-fitted-level-3);\n}\n</style><div id=\"sk-container-id-3\" class=\"sk-top-container\"><div class=\"sk-text-repr-fallback\"><pre>XGBRegressor(alpha=2.7789088833802875, base_score=None, booster=None,\n             callbacks=None, colsample_bylevel=None, colsample_bynode=None,\n             colsample_bytree=0.7195199615003822, device=None,\n             early_stopping_rounds=None, enable_categorical=True,\n             eval_metric=None, feature_types=None, gamma=1, grow_policy=None,\n             importance_type=None, interaction_constraints=None,\n             lambda=2.5045897938454433, learning_rate=0.08060457283983323,\n             max_bin=None, max_cat_threshold=None, max_cat_to_onehot=None,\n             max_delta_step=None, max_depth=11, max_leaves=None,\n             min_child_weight=None, missing=nan, monotone_constraints=None,\n             multi_strategy=None, n_estimators=103, n_jobs=None, ...)</pre><b>In a Jupyter environment, please rerun this cell to show the HTML representation or trust the notebook. <br />On GitHub, the HTML representation is unable to render, please try loading this page with nbviewer.org.</b></div><div class=\"sk-container\" hidden><div class=\"sk-item\"><div class=\"sk-estimator fitted sk-toggleable\"><input class=\"sk-toggleable__control sk-hidden--visually\" id=\"sk-estimator-id-3\" type=\"checkbox\" checked><label for=\"sk-estimator-id-3\" class=\"sk-toggleable__label fitted sk-toggleable__label-arrow fitted\">&nbsp;XGBRegressor<span class=\"sk-estimator-doc-link fitted\">i<span>Fitted</span></span></label><div class=\"sk-toggleable__content fitted\"><pre>XGBRegressor(alpha=2.7789088833802875, base_score=None, booster=None,\n             callbacks=None, colsample_bylevel=None, colsample_bynode=None,\n             colsample_bytree=0.7195199615003822, device=None,\n             early_stopping_rounds=None, enable_categorical=True,\n             eval_metric=None, feature_types=None, gamma=1, grow_policy=None,\n             importance_type=None, interaction_constraints=None,\n             lambda=2.5045897938454433, learning_rate=0.08060457283983323,\n             max_bin=None, max_cat_threshold=None, max_cat_to_onehot=None,\n             max_delta_step=None, max_depth=11, max_leaves=None,\n             min_child_weight=None, missing=nan, monotone_constraints=None,\n             multi_strategy=None, n_estimators=103, n_jobs=None, ...)</pre></div> </div></div></div></div>"
     },
     "execution_count": 24,
     "metadata": {},
     "output_type": "execute_result"
    }
   ],
   "source": [
    "xgb_model = XGBRegressor(**study.best_params, objective='reg:squarederror', tree_method='hist', enable_categorical=True)\n",
    "\n",
    "xgb_model.fit(X, y)"
   ],
   "metadata": {
    "collapsed": false,
    "ExecuteTime": {
     "end_time": "2024-12-17T23:25:20.708969Z",
     "start_time": "2024-12-17T23:25:16.038586Z"
    }
   },
   "id": "6fc216bec964c799"
  },
  {
   "cell_type": "code",
   "execution_count": 25,
   "outputs": [
    {
     "data": {
      "text/plain": "8.312595"
     },
     "execution_count": 25,
     "metadata": {},
     "output_type": "execute_result"
    }
   ],
   "source": [
    "train_preds = xgb_model.predict(valid[features])\n",
    "rmse(valid['kWh'], train_preds)"
   ],
   "metadata": {
    "collapsed": false,
    "ExecuteTime": {
     "end_time": "2024-12-17T23:25:20.951739Z",
     "start_time": "2024-12-17T23:25:20.709589Z"
    }
   },
   "id": "f7f319a7c6ff20f7"
  },
  {
   "cell_type": "code",
   "execution_count": 26,
   "outputs": [
    {
     "data": {
      "text/plain": "8.272928"
     },
     "execution_count": 26,
     "metadata": {},
     "output_type": "execute_result"
    }
   ],
   "source": [
    "train_preds = xgb_model.predict(test[features])\n",
    "rmse(test['kWh'], train_preds)"
   ],
   "metadata": {
    "collapsed": false,
    "ExecuteTime": {
     "end_time": "2024-12-17T23:25:21.169526Z",
     "start_time": "2024-12-17T23:25:20.949647Z"
    }
   },
   "id": "e99fb2edf5841672"
  },
  {
   "cell_type": "code",
   "execution_count": null,
   "outputs": [],
   "source": [],
   "metadata": {
    "collapsed": false
   },
   "id": "c20e03672bc74af3"
  }
 ],
 "metadata": {
  "kernelspec": {
   "display_name": "Python 3",
   "language": "python",
   "name": "python3"
  },
  "language_info": {
   "codemirror_mode": {
    "name": "ipython",
    "version": 2
   },
   "file_extension": ".py",
   "mimetype": "text/x-python",
   "name": "python",
   "nbconvert_exporter": "python",
   "pygments_lexer": "ipython2",
   "version": "2.7.6"
  }
 },
 "nbformat": 4,
 "nbformat_minor": 5
}

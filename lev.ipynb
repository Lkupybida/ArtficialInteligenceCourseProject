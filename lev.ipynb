{
 "cells": [
  {
   "cell_type": "code",
   "execution_count": 1,
   "outputs": [],
   "source": [
    "from models import *"
   ],
   "metadata": {
    "collapsed": false,
    "ExecuteTime": {
     "end_time": "2024-12-16T11:13:32.380303Z",
     "start_time": "2024-12-16T11:13:31.679729Z"
    }
   },
   "id": "64ad0aa6d77280d3"
  },
  {
   "cell_type": "code",
   "execution_count": 2,
   "id": "initial_id",
   "metadata": {
    "collapsed": true,
    "ExecuteTime": {
     "end_time": "2024-12-16T11:13:33.077307Z",
     "start_time": "2024-12-16T11:13:32.380616Z"
    }
   },
   "outputs": [
    {
     "name": "stderr",
     "output_type": "stream",
     "text": [
      "/var/folders/5w/bchvy66s6vbgncfkws1skvf40000gp/T/ipykernel_5435/1010640072.py:1: DtypeWarning: Columns (10,13,16) have mixed types. Specify dtype option on import or set low_memory=False.\n",
      "  df = pd.read_csv('data/original/dataset.csv')\n"
     ]
    },
    {
     "data": {
      "text/plain": "   SessionID                Start                  End     kWh  Revenue  \\\n0     591686  2021-01-01 00:05:34  2021-01-01 00:31:22   6.033    27.15   \n1     591720  2021-01-01 01:40:37  2021-01-01 01:42:19   0.890     6.22   \n2     591749  2021-01-01 02:12:35  2021-01-01 03:07:36   3.300    14.85   \n3     591755  2021-01-01 02:32:21  2021-01-01 02:57:08   6.880    48.09   \n4     591783  2021-01-01 03:39:03  2021-01-01 04:02:05  12.630    56.84   \n\n   InternalNum   City  Station  PortNum     PortType  ...     Client Tariff  \\\n0     28410100   Київ      209        3  Type 2 Plug  ...  553804960   4.50   \n1     25840200   Київ      111        1      CHAdeMO  ...  550843379   6.99   \n2     40112300  Стрый      147        1       Type 2  ...  540085134   4.50   \n3     25840200   Київ      111        1      CHAdeMO  ...  828881697   6.99   \n4     28410100   Київ      209        3  Type 2 Plug  ...  553804960   4.50   \n\n   MaxPower Fishka Successful DisconnectionReason  Latitude  Longitude  Type  \\\n0       NaN   True       True                 NaN  50.43104   30.39037  FAST   \n1       NaN   True       True                 NaN  50.48207   30.48725  FAST   \n2       NaN   True       True                 NaN  49.24778   23.85610  SLOW   \n3       NaN   True       True                 NaN  50.48207   30.48725  FAST   \n4       NaN   True       True                 NaN  50.43104   30.39037  FAST   \n\n  ChargingTime  \n0        25.80  \n1         1.70  \n2        55.02  \n3        24.78  \n4        23.03  \n\n[5 rows x 21 columns]",
      "text/html": "<div>\n<style scoped>\n    .dataframe tbody tr th:only-of-type {\n        vertical-align: middle;\n    }\n\n    .dataframe tbody tr th {\n        vertical-align: top;\n    }\n\n    .dataframe thead th {\n        text-align: right;\n    }\n</style>\n<table border=\"1\" class=\"dataframe\">\n  <thead>\n    <tr style=\"text-align: right;\">\n      <th></th>\n      <th>SessionID</th>\n      <th>Start</th>\n      <th>End</th>\n      <th>kWh</th>\n      <th>Revenue</th>\n      <th>InternalNum</th>\n      <th>City</th>\n      <th>Station</th>\n      <th>PortNum</th>\n      <th>PortType</th>\n      <th>...</th>\n      <th>Client</th>\n      <th>Tariff</th>\n      <th>MaxPower</th>\n      <th>Fishka</th>\n      <th>Successful</th>\n      <th>DisconnectionReason</th>\n      <th>Latitude</th>\n      <th>Longitude</th>\n      <th>Type</th>\n      <th>ChargingTime</th>\n    </tr>\n  </thead>\n  <tbody>\n    <tr>\n      <th>0</th>\n      <td>591686</td>\n      <td>2021-01-01 00:05:34</td>\n      <td>2021-01-01 00:31:22</td>\n      <td>6.033</td>\n      <td>27.15</td>\n      <td>28410100</td>\n      <td>Київ</td>\n      <td>209</td>\n      <td>3</td>\n      <td>Type 2 Plug</td>\n      <td>...</td>\n      <td>553804960</td>\n      <td>4.50</td>\n      <td>NaN</td>\n      <td>True</td>\n      <td>True</td>\n      <td>NaN</td>\n      <td>50.43104</td>\n      <td>30.39037</td>\n      <td>FAST</td>\n      <td>25.80</td>\n    </tr>\n    <tr>\n      <th>1</th>\n      <td>591720</td>\n      <td>2021-01-01 01:40:37</td>\n      <td>2021-01-01 01:42:19</td>\n      <td>0.890</td>\n      <td>6.22</td>\n      <td>25840200</td>\n      <td>Київ</td>\n      <td>111</td>\n      <td>1</td>\n      <td>CHAdeMO</td>\n      <td>...</td>\n      <td>550843379</td>\n      <td>6.99</td>\n      <td>NaN</td>\n      <td>True</td>\n      <td>True</td>\n      <td>NaN</td>\n      <td>50.48207</td>\n      <td>30.48725</td>\n      <td>FAST</td>\n      <td>1.70</td>\n    </tr>\n    <tr>\n      <th>2</th>\n      <td>591749</td>\n      <td>2021-01-01 02:12:35</td>\n      <td>2021-01-01 03:07:36</td>\n      <td>3.300</td>\n      <td>14.85</td>\n      <td>40112300</td>\n      <td>Стрый</td>\n      <td>147</td>\n      <td>1</td>\n      <td>Type 2</td>\n      <td>...</td>\n      <td>540085134</td>\n      <td>4.50</td>\n      <td>NaN</td>\n      <td>True</td>\n      <td>True</td>\n      <td>NaN</td>\n      <td>49.24778</td>\n      <td>23.85610</td>\n      <td>SLOW</td>\n      <td>55.02</td>\n    </tr>\n    <tr>\n      <th>3</th>\n      <td>591755</td>\n      <td>2021-01-01 02:32:21</td>\n      <td>2021-01-01 02:57:08</td>\n      <td>6.880</td>\n      <td>48.09</td>\n      <td>25840200</td>\n      <td>Київ</td>\n      <td>111</td>\n      <td>1</td>\n      <td>CHAdeMO</td>\n      <td>...</td>\n      <td>828881697</td>\n      <td>6.99</td>\n      <td>NaN</td>\n      <td>True</td>\n      <td>True</td>\n      <td>NaN</td>\n      <td>50.48207</td>\n      <td>30.48725</td>\n      <td>FAST</td>\n      <td>24.78</td>\n    </tr>\n    <tr>\n      <th>4</th>\n      <td>591783</td>\n      <td>2021-01-01 03:39:03</td>\n      <td>2021-01-01 04:02:05</td>\n      <td>12.630</td>\n      <td>56.84</td>\n      <td>28410100</td>\n      <td>Київ</td>\n      <td>209</td>\n      <td>3</td>\n      <td>Type 2 Plug</td>\n      <td>...</td>\n      <td>553804960</td>\n      <td>4.50</td>\n      <td>NaN</td>\n      <td>True</td>\n      <td>True</td>\n      <td>NaN</td>\n      <td>50.43104</td>\n      <td>30.39037</td>\n      <td>FAST</td>\n      <td>23.03</td>\n    </tr>\n  </tbody>\n</table>\n<p>5 rows × 21 columns</p>\n</div>"
     },
     "execution_count": 2,
     "metadata": {},
     "output_type": "execute_result"
    }
   ],
   "source": [
    "df = pd.read_csv('data/original/dataset.csv')\n",
    "df.head()"
   ]
  },
  {
   "cell_type": "code",
   "execution_count": 3,
   "outputs": [
    {
     "data": {
      "text/plain": "(30300,)"
     },
     "execution_count": 3,
     "metadata": {},
     "output_type": "execute_result"
    }
   ],
   "source": [
    "df['Client'].unique().shape"
   ],
   "metadata": {
    "collapsed": false,
    "ExecuteTime": {
     "end_time": "2024-12-16T11:13:33.121828Z",
     "start_time": "2024-12-16T11:13:33.075869Z"
    }
   },
   "id": "8a141dbdb113b9e2"
  },
  {
   "cell_type": "code",
   "execution_count": 4,
   "outputs": [
    {
     "data": {
      "text/plain": "(372187,)"
     },
     "execution_count": 4,
     "metadata": {},
     "output_type": "execute_result"
    }
   ],
   "source": [
    "df['Fishka'].shape"
   ],
   "metadata": {
    "collapsed": false,
    "ExecuteTime": {
     "end_time": "2024-12-16T11:13:33.122309Z",
     "start_time": "2024-12-16T11:13:33.100232Z"
    }
   },
   "id": "97b953660f2f10cc"
  },
  {
   "cell_type": "code",
   "execution_count": 5,
   "outputs": [
    {
     "name": "stdout",
     "output_type": "stream",
     "text": [
      " 2021: 15986 \n",
      " 2022: 20404 \n",
      " 2023: 148449 \n",
      " 2024: 187347\n"
     ]
    }
   ],
   "source": [
    "df['Start'] = pd.to_datetime(df['Start'], format='%Y-%m-%d %H:%M:%S')\n",
    "df['End'] = pd.to_datetime(df['End'], format='%Y-%m-%d %H:%M:%S')\n",
    "df['Start'] = pd.to_datetime(df['Start'], format='%Y-%m-%d %H:%M:%S')\n",
    "df2021 = df[(df['Start'] >= '2021-01-01 01:01:01') & (df['Start'] <= '2022-01-01 01:01:01')]\n",
    "df2022 = df[(df['Start'] >= '2022-01-01 01:01:01') & (df['Start'] <= '2023-01-01 01:01:01')]\n",
    "df2023 = df[(df['Start'] >= '2023-01-01 01:01:01') & (df['Start'] <= '2024-01-01 01:01:01')]\n",
    "df2024 = df[(df['Start'] >= '2024-01-01 01:01:01') & (df['Start'] <= '2025-01-01 01:01:01')]\n",
    "print(f\" 2021: {df2021.shape[0]} \\n 2022: {df2022.shape[0]} \\n 2023: {df2023.shape[0]} \\n 2024: {df2024.shape[0]}\")"
   ],
   "metadata": {
    "collapsed": false,
    "ExecuteTime": {
     "end_time": "2024-12-16T11:13:33.330346Z",
     "start_time": "2024-12-16T11:13:33.227104Z"
    }
   },
   "id": "7d3d0f6a63d16aae"
  },
  {
   "cell_type": "code",
   "execution_count": 6,
   "outputs": [],
   "source": [
    "train, test = train_test(df)\n",
    "train, valid = train_test(train)"
   ],
   "metadata": {
    "collapsed": false,
    "ExecuteTime": {
     "end_time": "2024-12-16T11:13:43.721702Z",
     "start_time": "2024-12-16T11:13:43.555652Z"
    }
   },
   "id": "97aaf2b49140f409"
  },
  {
   "cell_type": "code",
   "execution_count": 8,
   "outputs": [
    {
     "data": {
      "text/plain": "<bound method Series.unique of 343755    True\n319149     NaN\n338634     NaN\n175914     NaN\n95606     True\n          ... \n259178     NaN\n365838     NaN\n131932    True\n146867    True\n121958    True\nName: Fishka, Length: 297749, dtype: object>"
     },
     "execution_count": 8,
     "metadata": {},
     "output_type": "execute_result"
    }
   ],
   "source": [
    "train['Fishka'].unique"
   ],
   "metadata": {
    "collapsed": false,
    "ExecuteTime": {
     "end_time": "2024-11-18T12:23:42.312941Z",
     "start_time": "2024-11-18T12:23:42.307122Z"
    }
   },
   "id": "766ee08aa780ff52"
  },
  {
   "cell_type": "code",
   "execution_count": 9,
   "outputs": [
    {
     "data": {
      "text/plain": "SessionID                       int64\nStart                  datetime64[ns]\nEnd                    datetime64[ns]\nRevenue                       float64\nInternalNum                     int64\nCity                           object\nStation                         int64\nPortNum                         int64\nPortType                       object\nAdapter                        object\nClient                         object\nTariff                        float64\nMaxPower                       object\nFishka                         object\nSuccessful                     object\nDisconnectionReason            object\nLatitude                      float64\nLongitude                     float64\nType                           object\nChargingTime                  float64\nkWh                           float64\ndtype: object"
     },
     "execution_count": 9,
     "metadata": {},
     "output_type": "execute_result"
    }
   ],
   "source": [
    "train.dtypes"
   ],
   "metadata": {
    "collapsed": false,
    "ExecuteTime": {
     "end_time": "2024-11-18T12:23:42.316814Z",
     "start_time": "2024-11-18T12:23:42.310831Z"
    }
   },
   "id": "1b2a823e00520f34"
  },
  {
   "cell_type": "code",
   "execution_count": 10,
   "outputs": [],
   "source": [
    "# features = ['Latitude', 'Longitude', 'Fishka', 'Client', 'PortType', 'PortNum', 'Adapter', 'City', 'Station']\n",
    "# categorical = ['Client', 'PortType', 'PortNum', 'Adapter', 'City', 'Station', 'Fishka']\n",
    "# study, best_model, cv_score, test_score = optimize_model('LGBM', train, features, categorical, 10)"
   ],
   "metadata": {
    "collapsed": false,
    "ExecuteTime": {
     "end_time": "2024-11-18T12:23:42.319362Z",
     "start_time": "2024-11-18T12:23:42.315703Z"
    }
   },
   "id": "a0482f3f1e1fb924"
  },
  {
   "cell_type": "code",
   "execution_count": 11,
   "outputs": [],
   "source": [
    "# for feature in categorical:\n",
    "#     test[feature] = test[feature].astype('category')\n",
    "# \n",
    "# train_preds = best_model.predict(test[features])\n",
    "# rmse(test['kWh'], train_preds)"
   ],
   "metadata": {
    "collapsed": false,
    "ExecuteTime": {
     "end_time": "2024-11-18T12:23:42.323940Z",
     "start_time": "2024-11-18T12:23:42.321904Z"
    }
   },
   "id": "b234a604ebd90d52"
  },
  {
   "cell_type": "code",
   "execution_count": 12,
   "outputs": [
    {
     "data": {
      "text/plain": "                 time     kWh\n0 2021-01-01 00:00:00   6.033\n1 2021-01-01 01:00:00   0.890\n2 2021-01-01 02:00:00  10.180\n3 2021-01-01 03:00:00  12.630\n4 2021-01-01 04:00:00   1.940",
      "text/html": "<div>\n<style scoped>\n    .dataframe tbody tr th:only-of-type {\n        vertical-align: middle;\n    }\n\n    .dataframe tbody tr th {\n        vertical-align: top;\n    }\n\n    .dataframe thead th {\n        text-align: right;\n    }\n</style>\n<table border=\"1\" class=\"dataframe\">\n  <thead>\n    <tr style=\"text-align: right;\">\n      <th></th>\n      <th>time</th>\n      <th>kWh</th>\n    </tr>\n  </thead>\n  <tbody>\n    <tr>\n      <th>0</th>\n      <td>2021-01-01 00:00:00</td>\n      <td>6.033</td>\n    </tr>\n    <tr>\n      <th>1</th>\n      <td>2021-01-01 01:00:00</td>\n      <td>0.890</td>\n    </tr>\n    <tr>\n      <th>2</th>\n      <td>2021-01-01 02:00:00</td>\n      <td>10.180</td>\n    </tr>\n    <tr>\n      <th>3</th>\n      <td>2021-01-01 03:00:00</td>\n      <td>12.630</td>\n    </tr>\n    <tr>\n      <th>4</th>\n      <td>2021-01-01 04:00:00</td>\n      <td>1.940</td>\n    </tr>\n  </tbody>\n</table>\n</div>"
     },
     "execution_count": 12,
     "metadata": {},
     "output_type": "execute_result"
    }
   ],
   "source": [
    "df = pd.read_csv('data/clean/hourly.csv')\n",
    "df['time'] = pd.to_datetime(df['time'], format='%Y-%m-%d %H:%M:%S')\n",
    "df.head()"
   ],
   "metadata": {
    "collapsed": false,
    "ExecuteTime": {
     "end_time": "2024-11-18T12:23:42.347502Z",
     "start_time": "2024-11-18T12:23:42.325064Z"
    }
   },
   "id": "cf7d8c673b31c034"
  },
  {
   "cell_type": "code",
   "execution_count": 13,
   "outputs": [
    {
     "data": {
      "text/plain": "time    datetime64[ns]\nkWh            float64\ndtype: object"
     },
     "execution_count": 13,
     "metadata": {},
     "output_type": "execute_result"
    }
   ],
   "source": [
    "df.dtypes"
   ],
   "metadata": {
    "collapsed": false,
    "ExecuteTime": {
     "end_time": "2024-11-18T12:23:42.351019Z",
     "start_time": "2024-11-18T12:23:42.348627Z"
    }
   },
   "id": "7d9e1a194b091802"
  },
  {
   "cell_type": "code",
   "execution_count": 14,
   "outputs": [
    {
     "data": {
      "text/plain": "<Figure size 640x480 with 1 Axes>",
      "image/png": "[encoded data removed]"
     },
     "metadata": {},
     "output_type": "display_data"
    }
   ],
   "source": [
    "plt.plot(df['time'], df['kWh'])\n",
    "plt.show()"
   ],
   "metadata": {
    "collapsed": false,
    "ExecuteTime": {
     "end_time": "2024-11-18T12:23:42.546544Z",
     "start_time": "2024-11-18T12:23:42.351598Z"
    }
   },
   "id": "c0c5c71cd0fad84b"
  },
  {
   "cell_type": "code",
   "execution_count": 12,
   "outputs": [],
   "source": [
    "df = pd.read_csv('data/clean/dataset.csv', parse_dates=['Start', 'End'], low_memory=False)"
   ],
   "metadata": {
    "collapsed": false,
    "ExecuteTime": {
     "end_time": "2024-12-17T13:07:04.156180Z",
     "start_time": "2024-12-17T13:07:03.832174Z"
    }
   },
   "id": "6c3a635b9fdbab04"
  },
  {
   "cell_type": "code",
   "execution_count": 13,
   "outputs": [
    {
     "data": {
      "text/plain": "idx                      int64\nStart           datetime64[ns]\nEnd             datetime64[ns]\nkWh                    float64\nRevenue                float64\nStation                  int64\nPortNum                  int64\nPortType                object\nAdapter                   bool\nClient                  object\nTariff                 float64\nMaxPower                object\nFishka                  object\nLatitude               float64\nLongitude              float64\nType                    object\nChargingTime           float64\ndtype: object"
     },
     "execution_count": 13,
     "metadata": {},
     "output_type": "execute_result"
    }
   ],
   "source": [
    "df.dtypes"
   ],
   "metadata": {
    "collapsed": false,
    "ExecuteTime": {
     "end_time": "2024-12-17T13:07:04.367816Z",
     "start_time": "2024-12-17T13:07:04.365348Z"
    }
   },
   "id": "a025be23de99b93f"
  },
  {
   "cell_type": "code",
   "execution_count": 16,
   "outputs": [
    {
     "data": {
      "text/plain": "           idx               Start                 End     kWh  Revenue  \\\n0            0 2021-01-01 00:05:34 2021-01-01 00:31:22   6.033    27.15   \n1            1 2021-01-01 01:40:37 2021-01-01 01:42:19   0.890     6.22   \n2            2 2021-01-01 02:12:35 2021-01-01 03:07:36   3.300    14.85   \n3            3 2021-01-01 02:32:21 2021-01-01 02:57:08   6.880    48.09   \n4            4 2021-01-01 03:39:03 2021-01-01 04:02:05  12.630    56.84   \n...        ...                 ...                 ...     ...      ...   \n177751  371666 2024-10-31 09:34:21 2024-10-31 10:37:24  73.572  1249.99   \n177752  371667 2024-10-31 09:36:14 2024-10-31 10:01:05  36.793   625.11   \n177753  371668 2024-10-31 09:36:48 2024-10-31 09:43:43   1.500    23.98   \n177754  371669 2024-10-31 09:37:47 2024-10-31 14:01:29  16.051   208.50   \n177755  371670 2024-10-31 09:38:16 2024-10-31 10:19:57   5.060    65.73   \n\n        Station  PortNum       PortType  Adapter     Client  Tariff MaxPower  \\\n0           209        3    Type 2 Plug    False  553804960    4.50      NaN   \n1           111        1        CHAdeMO    False  550843379    6.99      NaN   \n2           147        1         Type 2    False  540085134    4.50      NaN   \n3           111        1        CHAdeMO    False  828881697    6.99      NaN   \n4           209        3    Type 2 Plug    False  553804960    4.50      NaN   \n...         ...      ...            ...      ...        ...     ...      ...   \n177751      561        2   CCS 2/GBT DC    False  857230274   16.99     89.0   \n177752      550        1          CCS 2    False  503412773   16.99    119.0   \n177753      583        2        CHAdeMO    False  548310042   15.99     23.0   \n177754      989        1  Type 2/Type 1    False  544211695   12.99      3.0   \n177755      578        3    Type 2 Plug    False  862095174   12.99      7.0   \n\n       Fishka   Latitude  Longitude       Type  ChargingTime  \n0        True  50.431040  30.390370       FAST         25.80  \n1        True  50.482070  30.487250       FAST          1.70  \n2        True  49.247780  23.856100       SLOW         55.02  \n3        True  50.482070  30.487250       FAST         24.78  \n4        True  50.431040  30.390370       FAST         23.03  \n...       ...        ...        ...        ...           ...  \n177751    NaN  50.672440  26.271480  ULTRAFAST         63.05  \n177752    NaN  50.319615  31.033856  ULTRAFAST         24.85  \n177753   True  46.479330  30.690400       FAST          6.92  \n177754   True  50.533780  30.608210       SLOW        263.70  \n177755   True  48.567394  30.232208  ULTRAFAST         41.68  \n\n[177756 rows x 17 columns]",
      "text/html": "<div>\n<style scoped>\n    .dataframe tbody tr th:only-of-type {\n        vertical-align: middle;\n    }\n\n    .dataframe tbody tr th {\n        vertical-align: top;\n    }\n\n    .dataframe thead th {\n        text-align: right;\n    }\n</style>\n<table border=\"1\" class=\"dataframe\">\n  <thead>\n    <tr style=\"text-align: right;\">\n      <th></th>\n      <th>idx</th>\n      <th>Start</th>\n      <th>End</th>\n      <th>kWh</th>\n      <th>Revenue</th>\n      <th>Station</th>\n      <th>PortNum</th>\n      <th>PortType</th>\n      <th>Adapter</th>\n      <th>Client</th>\n      <th>Tariff</th>\n      <th>MaxPower</th>\n      <th>Fishka</th>\n      <th>Latitude</th>\n      <th>Longitude</th>\n      <th>Type</th>\n      <th>ChargingTime</th>\n    </tr>\n  </thead>\n  <tbody>\n    <tr>\n      <th>0</th>\n      <td>0</td>\n      <td>2021-01-01 00:05:34</td>\n      <td>2021-01-01 00:31:22</td>\n      <td>6.033</td>\n      <td>27.15</td>\n      <td>209</td>\n      <td>3</td>\n      <td>Type 2 Plug</td>\n      <td>False</td>\n      <td>553804960</td>\n      <td>4.50</td>\n      <td>NaN</td>\n      <td>True</td>\n      <td>50.431040</td>\n      <td>30.390370</td>\n      <td>FAST</td>\n      <td>25.80</td>\n    </tr>\n    <tr>\n      <th>1</th>\n      <td>1</td>\n      <td>2021-01-01 01:40:37</td>\n      <td>2021-01-01 01:42:19</td>\n      <td>0.890</td>\n      <td>6.22</td>\n      <td>111</td>\n      <td>1</td>\n      <td>CHAdeMO</td>\n      <td>False</td>\n      <td>550843379</td>\n      <td>6.99</td>\n      <td>NaN</td>\n      <td>True</td>\n      <td>50.482070</td>\n      <td>30.487250</td>\n      <td>FAST</td>\n      <td>1.70</td>\n    </tr>\n    <tr>\n      <th>2</th>\n      <td>2</td>\n      <td>2021-01-01 02:12:35</td>\n      <td>2021-01-01 03:07:36</td>\n      <td>3.300</td>\n      <td>14.85</td>\n      <td>147</td>\n      <td>1</td>\n      <td>Type 2</td>\n      <td>False</td>\n      <td>540085134</td>\n      <td>4.50</td>\n      <td>NaN</td>\n      <td>True</td>\n      <td>49.247780</td>\n      <td>23.856100</td>\n      <td>SLOW</td>\n      <td>55.02</td>\n    </tr>\n    <tr>\n      <th>3</th>\n      <td>3</td>\n      <td>2021-01-01 02:32:21</td>\n      <td>2021-01-01 02:57:08</td>\n      <td>6.880</td>\n      <td>48.09</td>\n      <td>111</td>\n      <td>1</td>\n      <td>CHAdeMO</td>\n      <td>False</td>\n      <td>828881697</td>\n      <td>6.99</td>\n      <td>NaN</td>\n      <td>True</td>\n      <td>50.482070</td>\n      <td>30.487250</td>\n      <td>FAST</td>\n      <td>24.78</td>\n    </tr>\n    <tr>\n      <th>4</th>\n      <td>4</td>\n      <td>2021-01-01 03:39:03</td>\n      <td>2021-01-01 04:02:05</td>\n      <td>12.630</td>\n      <td>56.84</td>\n      <td>209</td>\n      <td>3</td>\n      <td>Type 2 Plug</td>\n      <td>False</td>\n      <td>553804960</td>\n      <td>4.50</td>\n      <td>NaN</td>\n      <td>True</td>\n      <td>50.431040</td>\n      <td>30.390370</td>\n      <td>FAST</td>\n      <td>23.03</td>\n    </tr>\n    <tr>\n      <th>...</th>\n      <td>...</td>\n      <td>...</td>\n      <td>...</td>\n      <td>...</td>\n      <td>...</td>\n      <td>...</td>\n      <td>...</td>\n      <td>...</td>\n      <td>...</td>\n      <td>...</td>\n      <td>...</td>\n      <td>...</td>\n      <td>...</td>\n      <td>...</td>\n      <td>...</td>\n      <td>...</td>\n      <td>...</td>\n    </tr>\n    <tr>\n      <th>177751</th>\n      <td>371666</td>\n      <td>2024-10-31 09:34:21</td>\n      <td>2024-10-31 10:37:24</td>\n      <td>73.572</td>\n      <td>1249.99</td>\n      <td>561</td>\n      <td>2</td>\n      <td>CCS 2/GBT DC</td>\n      <td>False</td>\n      <td>857230274</td>\n      <td>16.99</td>\n      <td>89.0</td>\n      <td>NaN</td>\n      <td>50.672440</td>\n      <td>26.271480</td>\n      <td>ULTRAFAST</td>\n      <td>63.05</td>\n    </tr>\n    <tr>\n      <th>177752</th>\n      <td>371667</td>\n      <td>2024-10-31 09:36:14</td>\n      <td>2024-10-31 10:01:05</td>\n      <td>36.793</td>\n      <td>625.11</td>\n      <td>550</td>\n      <td>1</td>\n      <td>CCS 2</td>\n      <td>False</td>\n      <td>503412773</td>\n      <td>16.99</td>\n      <td>119.0</td>\n      <td>NaN</td>\n      <td>50.319615</td>\n      <td>31.033856</td>\n      <td>ULTRAFAST</td>\n      <td>24.85</td>\n    </tr>\n    <tr>\n      <th>177753</th>\n      <td>371668</td>\n      <td>2024-10-31 09:36:48</td>\n      <td>2024-10-31 09:43:43</td>\n      <td>1.500</td>\n      <td>23.98</td>\n      <td>583</td>\n      <td>2</td>\n      <td>CHAdeMO</td>\n      <td>False</td>\n      <td>548310042</td>\n      <td>15.99</td>\n      <td>23.0</td>\n      <td>True</td>\n      <td>46.479330</td>\n      <td>30.690400</td>\n      <td>FAST</td>\n      <td>6.92</td>\n    </tr>\n    <tr>\n      <th>177754</th>\n      <td>371669</td>\n      <td>2024-10-31 09:37:47</td>\n      <td>2024-10-31 14:01:29</td>\n      <td>16.051</td>\n      <td>208.50</td>\n      <td>989</td>\n      <td>1</td>\n      <td>Type 2/Type 1</td>\n      <td>False</td>\n      <td>544211695</td>\n      <td>12.99</td>\n      <td>3.0</td>\n      <td>True</td>\n      <td>50.533780</td>\n      <td>30.608210</td>\n      <td>SLOW</td>\n      <td>263.70</td>\n    </tr>\n    <tr>\n      <th>177755</th>\n      <td>371670</td>\n      <td>2024-10-31 09:38:16</td>\n      <td>2024-10-31 10:19:57</td>\n      <td>5.060</td>\n      <td>65.73</td>\n      <td>578</td>\n      <td>3</td>\n      <td>Type 2 Plug</td>\n      <td>False</td>\n      <td>862095174</td>\n      <td>12.99</td>\n      <td>7.0</td>\n      <td>True</td>\n      <td>48.567394</td>\n      <td>30.232208</td>\n      <td>ULTRAFAST</td>\n      <td>41.68</td>\n    </tr>\n  </tbody>\n</table>\n<p>177756 rows × 17 columns</p>\n</div>"
     },
     "execution_count": 16,
     "metadata": {},
     "output_type": "execute_result"
    }
   ],
   "source": [
    "df"
   ],
   "metadata": {
    "collapsed": false,
    "ExecuteTime": {
     "end_time": "2024-12-17T13:11:30.469128Z",
     "start_time": "2024-12-17T13:11:30.455624Z"
    }
   },
   "id": "c877eb66fb206938"
  },
  {
   "cell_type": "code",
   "execution_count": null,
   "outputs": [],
   "source": [],
   "metadata": {
    "collapsed": false
   },
   "id": "99007e79d0874a1d"
  }
 ],
 "metadata": {
  "kernelspec": {
   "display_name": "Python 3",
   "language": "python",
   "name": "python3"
  },
  "language_info": {
   "codemirror_mode": {
    "name": "ipython",
    "version": 2
   },
   "file_extension": ".py",
   "mimetype": "text/x-python",
   "name": "python",
   "nbconvert_exporter": "python",
   "pygments_lexer": "ipython2",
   "version": "2.7.6"
  }
 },
 "nbformat": 4,
 "nbformat_minor": 5
}

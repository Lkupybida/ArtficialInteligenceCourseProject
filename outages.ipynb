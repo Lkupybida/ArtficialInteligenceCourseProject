{
 "cells": [
  {
   "cell_type": "code",
   "execution_count": 33,
   "metadata": {},
   "outputs": [],
   "source": [
    "import pandas as pd\n",
    "import numpy as np\n",
    "from sklearn.model_selection import train_test_split\n",
    "from sklearn.ensemble import RandomForestRegressor\n",
    "from sklearn.metrics import mean_squared_error"
   ]
  },
  {
   "cell_type": "code",
   "execution_count": 105,
   "metadata": {},
   "outputs": [],
   "source": [
    "outages_df = pd.read_excel('data/original/Book2(1).xlsx', usecols=['Унікод АЗС', 'ДатаЧас', 'Обсяг спожитих, кВт', 'Year', 'Month', 'Date', 'Day', 'DayWeek', 'Hour'])"
   ]
  },
  {
   "cell_type": "code",
   "execution_count": 106,
   "metadata": {},
   "outputs": [],
   "source": [
    "latitude = []\n",
    "longitude = []\n",
    "\n",
    "for i in outages_df['Унікод АЗС']:\n",
    "    if i == 40810600:\n",
    "        latitude.append(50.418366003690984)\n",
    "        longitude.append(29.840546770260875)\n",
    "    if i == 40861000:\n",
    "        latitude.append(50.31828636812571)\n",
    "        longitude.append(31.03586158987561)\n",
    "    if i == 40860500:\n",
    "        latitude.append(50.319652674621935)\n",
    "        longitude.append(31.03398680305577)\n",
    "    if i == 40810700:\n",
    "        latitude.append(50.42274230627166)\n",
    "        longitude.append(29.843808164165303)\n",
    "\n",
    "outages_df['Latitude'] = latitude\n",
    "outages_df['Longitude'] = longitude\n"
   ]
  },
  {
   "cell_type": "code",
   "execution_count": 107,
   "metadata": {},
   "outputs": [
    {
     "data": {
      "text/html": [
       "<div>\n",
       "<style scoped>\n",
       "    .dataframe tbody tr th:only-of-type {\n",
       "        vertical-align: middle;\n",
       "    }\n",
       "\n",
       "    .dataframe tbody tr th {\n",
       "        vertical-align: top;\n",
       "    }\n",
       "\n",
       "    .dataframe thead th {\n",
       "        text-align: right;\n",
       "    }\n",
       "</style>\n",
       "<table border=\"1\" class=\"dataframe\">\n",
       "  <thead>\n",
       "    <tr style=\"text-align: right;\">\n",
       "      <th></th>\n",
       "      <th>Унікод АЗС</th>\n",
       "      <th>ДатаЧас</th>\n",
       "      <th>Обсяг спожитих, кВт</th>\n",
       "      <th>Year</th>\n",
       "      <th>Month</th>\n",
       "      <th>Date</th>\n",
       "      <th>Day</th>\n",
       "      <th>DayWeek</th>\n",
       "      <th>Hour</th>\n",
       "      <th>Latitude</th>\n",
       "      <th>Longitude</th>\n",
       "    </tr>\n",
       "  </thead>\n",
       "  <tbody>\n",
       "    <tr>\n",
       "      <th>0</th>\n",
       "      <td>40810600</td>\n",
       "      <td>2023-06-01 00:00:00</td>\n",
       "      <td>29.3216</td>\n",
       "      <td>2023</td>\n",
       "      <td>6</td>\n",
       "      <td>2023-06-01</td>\n",
       "      <td>1</td>\n",
       "      <td>3</td>\n",
       "      <td>0</td>\n",
       "      <td>50.418366</td>\n",
       "      <td>29.840547</td>\n",
       "    </tr>\n",
       "    <tr>\n",
       "      <th>1</th>\n",
       "      <td>40810600</td>\n",
       "      <td>2023-06-01 01:00:00</td>\n",
       "      <td>28.2432</td>\n",
       "      <td>2023</td>\n",
       "      <td>6</td>\n",
       "      <td>2023-06-01</td>\n",
       "      <td>1</td>\n",
       "      <td>3</td>\n",
       "      <td>1</td>\n",
       "      <td>50.418366</td>\n",
       "      <td>29.840547</td>\n",
       "    </tr>\n",
       "    <tr>\n",
       "      <th>2</th>\n",
       "      <td>40810600</td>\n",
       "      <td>2023-06-01 02:00:00</td>\n",
       "      <td>25.5184</td>\n",
       "      <td>2023</td>\n",
       "      <td>6</td>\n",
       "      <td>2023-06-01</td>\n",
       "      <td>1</td>\n",
       "      <td>3</td>\n",
       "      <td>2</td>\n",
       "      <td>50.418366</td>\n",
       "      <td>29.840547</td>\n",
       "    </tr>\n",
       "    <tr>\n",
       "      <th>3</th>\n",
       "      <td>40810600</td>\n",
       "      <td>2023-06-01 03:00:00</td>\n",
       "      <td>28.1296</td>\n",
       "      <td>2023</td>\n",
       "      <td>6</td>\n",
       "      <td>2023-06-01</td>\n",
       "      <td>1</td>\n",
       "      <td>3</td>\n",
       "      <td>3</td>\n",
       "      <td>50.418366</td>\n",
       "      <td>29.840547</td>\n",
       "    </tr>\n",
       "    <tr>\n",
       "      <th>4</th>\n",
       "      <td>40810600</td>\n",
       "      <td>2023-06-01 04:00:00</td>\n",
       "      <td>26.8352</td>\n",
       "      <td>2023</td>\n",
       "      <td>6</td>\n",
       "      <td>2023-06-01</td>\n",
       "      <td>1</td>\n",
       "      <td>3</td>\n",
       "      <td>4</td>\n",
       "      <td>50.418366</td>\n",
       "      <td>29.840547</td>\n",
       "    </tr>\n",
       "    <tr>\n",
       "      <th>...</th>\n",
       "      <td>...</td>\n",
       "      <td>...</td>\n",
       "      <td>...</td>\n",
       "      <td>...</td>\n",
       "      <td>...</td>\n",
       "      <td>...</td>\n",
       "      <td>...</td>\n",
       "      <td>...</td>\n",
       "      <td>...</td>\n",
       "      <td>...</td>\n",
       "      <td>...</td>\n",
       "    </tr>\n",
       "    <tr>\n",
       "      <th>49921</th>\n",
       "      <td>40810700</td>\n",
       "      <td>2024-11-01 19:00:00</td>\n",
       "      <td>59.8150</td>\n",
       "      <td>2024</td>\n",
       "      <td>11</td>\n",
       "      <td>2024-11-01</td>\n",
       "      <td>1</td>\n",
       "      <td>4</td>\n",
       "      <td>19</td>\n",
       "      <td>50.422742</td>\n",
       "      <td>29.843808</td>\n",
       "    </tr>\n",
       "    <tr>\n",
       "      <th>49922</th>\n",
       "      <td>40810700</td>\n",
       "      <td>2024-11-01 20:00:00</td>\n",
       "      <td>69.7740</td>\n",
       "      <td>2024</td>\n",
       "      <td>11</td>\n",
       "      <td>2024-11-01</td>\n",
       "      <td>1</td>\n",
       "      <td>4</td>\n",
       "      <td>20</td>\n",
       "      <td>50.422742</td>\n",
       "      <td>29.843808</td>\n",
       "    </tr>\n",
       "    <tr>\n",
       "      <th>49923</th>\n",
       "      <td>40810700</td>\n",
       "      <td>2024-11-01 21:00:00</td>\n",
       "      <td>75.8230</td>\n",
       "      <td>2024</td>\n",
       "      <td>11</td>\n",
       "      <td>2024-11-01</td>\n",
       "      <td>1</td>\n",
       "      <td>4</td>\n",
       "      <td>21</td>\n",
       "      <td>50.422742</td>\n",
       "      <td>29.843808</td>\n",
       "    </tr>\n",
       "    <tr>\n",
       "      <th>49924</th>\n",
       "      <td>40810700</td>\n",
       "      <td>2024-11-01 22:00:00</td>\n",
       "      <td>70.4940</td>\n",
       "      <td>2024</td>\n",
       "      <td>11</td>\n",
       "      <td>2024-11-01</td>\n",
       "      <td>1</td>\n",
       "      <td>4</td>\n",
       "      <td>22</td>\n",
       "      <td>50.422742</td>\n",
       "      <td>29.843808</td>\n",
       "    </tr>\n",
       "    <tr>\n",
       "      <th>49925</th>\n",
       "      <td>40810700</td>\n",
       "      <td>2024-11-01 23:00:00</td>\n",
       "      <td>43.9450</td>\n",
       "      <td>2024</td>\n",
       "      <td>11</td>\n",
       "      <td>2024-11-01</td>\n",
       "      <td>1</td>\n",
       "      <td>4</td>\n",
       "      <td>23</td>\n",
       "      <td>50.422742</td>\n",
       "      <td>29.843808</td>\n",
       "    </tr>\n",
       "  </tbody>\n",
       "</table>\n",
       "<p>49926 rows × 11 columns</p>\n",
       "</div>"
      ],
      "text/plain": [
       "       Унікод АЗС             ДатаЧас  Обсяг спожитих, кВт  Year  Month  \\\n",
       "0        40810600 2023-06-01 00:00:00              29.3216  2023      6   \n",
       "1        40810600 2023-06-01 01:00:00              28.2432  2023      6   \n",
       "2        40810600 2023-06-01 02:00:00              25.5184  2023      6   \n",
       "3        40810600 2023-06-01 03:00:00              28.1296  2023      6   \n",
       "4        40810600 2023-06-01 04:00:00              26.8352  2023      6   \n",
       "...           ...                 ...                  ...   ...    ...   \n",
       "49921    40810700 2024-11-01 19:00:00              59.8150  2024     11   \n",
       "49922    40810700 2024-11-01 20:00:00              69.7740  2024     11   \n",
       "49923    40810700 2024-11-01 21:00:00              75.8230  2024     11   \n",
       "49924    40810700 2024-11-01 22:00:00              70.4940  2024     11   \n",
       "49925    40810700 2024-11-01 23:00:00              43.9450  2024     11   \n",
       "\n",
       "            Date  Day  DayWeek  Hour   Latitude  Longitude  \n",
       "0     2023-06-01    1        3     0  50.418366  29.840547  \n",
       "1     2023-06-01    1        3     1  50.418366  29.840547  \n",
       "2     2023-06-01    1        3     2  50.418366  29.840547  \n",
       "3     2023-06-01    1        3     3  50.418366  29.840547  \n",
       "4     2023-06-01    1        3     4  50.418366  29.840547  \n",
       "...          ...  ...      ...   ...        ...        ...  \n",
       "49921 2024-11-01    1        4    19  50.422742  29.843808  \n",
       "49922 2024-11-01    1        4    20  50.422742  29.843808  \n",
       "49923 2024-11-01    1        4    21  50.422742  29.843808  \n",
       "49924 2024-11-01    1        4    22  50.422742  29.843808  \n",
       "49925 2024-11-01    1        4    23  50.422742  29.843808  \n",
       "\n",
       "[49926 rows x 11 columns]"
      ]
     },
     "execution_count": 107,
     "metadata": {},
     "output_type": "execute_result"
    }
   ],
   "source": [
    "outages_df"
   ]
  },
  {
   "cell_type": "code",
   "execution_count": 108,
   "metadata": {},
   "outputs": [],
   "source": [
    "outages_list = []\n",
    "kW_list = []\n",
    "for i in outages_df['Обсяг спожитих, кВт']:\n",
    "    if pd.isna(i):\n",
    "        outages_list.append(False)\n",
    "        kW_list.append(0)\n",
    "    else:\n",
    "        outages_list.append(True)\n",
    "        kW_list.append(i)\n",
    "\n",
    "outages_df['Light On'] = outages_list\n",
    "outages_df['kW'] = kW_list"
   ]
  },
  {
   "cell_type": "code",
   "execution_count": 109,
   "metadata": {},
   "outputs": [],
   "source": [
    "outages_df = outages_df.drop(columns = ['Date'])\n",
    "# outages_df = outages_df.drop(columns = ['ДатаЧас'])\n",
    "outages_df = outages_df.drop(columns = ['Обсяг спожитих, кВт'])"
   ]
  },
  {
   "cell_type": "code",
   "execution_count": 113,
   "metadata": {},
   "outputs": [],
   "source": [
    "X = outages_df.drop(columns=['kW'])\n",
    "y = outages_df[['kW', 'Year', 'Month']] "
   ]
  },
  {
   "cell_type": "code",
   "execution_count": 112,
   "metadata": {},
   "outputs": [
    {
     "name": "stdout",
     "output_type": "stream",
     "text": [
      "       Унікод АЗС             ДатаЧас  Year  Month  Day  DayWeek  Hour  \\\n",
      "11713    40810600 2024-10-01 00:00:00  2024     10    1        1     0   \n",
      "11714    40810600 2024-10-01 01:00:00  2024     10    1        1     1   \n",
      "11715    40810600 2024-10-01 02:00:00  2024     10    1        1     2   \n",
      "11716    40810600 2024-10-01 03:00:00  2024     10    1        1     3   \n",
      "11717    40810600 2024-10-01 04:00:00  2024     10    1        1     4   \n",
      "...           ...                 ...   ...    ...  ...      ...   ...   \n",
      "49897    40810700 2024-10-31 19:00:00  2024     10   31        3    19   \n",
      "49898    40810700 2024-10-31 20:00:00  2024     10   31        3    20   \n",
      "49899    40810700 2024-10-31 21:00:00  2024     10   31        3    21   \n",
      "49900    40810700 2024-10-31 22:00:00  2024     10   31        3    22   \n",
      "49901    40810700 2024-10-31 23:00:00  2024     10   31        3    23   \n",
      "\n",
      "        Latitude  Longitude  Light On  \n",
      "11713  50.418366  29.840547      True  \n",
      "11714  50.418366  29.840547      True  \n",
      "11715  50.418366  29.840547      True  \n",
      "11716  50.418366  29.840547      True  \n",
      "11717  50.418366  29.840547      True  \n",
      "...          ...        ...       ...  \n",
      "49897  50.422742  29.843808      True  \n",
      "49898  50.422742  29.843808      True  \n",
      "49899  50.422742  29.843808      True  \n",
      "49900  50.422742  29.843808      True  \n",
      "49901  50.422742  29.843808      True  \n",
      "\n",
      "[2980 rows x 10 columns]\n"
     ]
    }
   ],
   "source": [
    "X_val = X[(X['Year'] ==2024) & (X['Month'] == 10)]\n",
    "y_val = y[(y['Year'] ==2024) & (y['Month'] == 10)]\n",
    "\n",
    "X_test = X[(X['Year'] ==2024) & (X['Month'] == 11)]\n",
    "y_test = y[(y['Year'] ==2024) & (y['Month'] == 11)]\n",
    "\n",
    "X_train = X[~((X['Year'] == 2024) & (X['Month'] == 11))]\n",
    "y_train = y[~((y['Year'] == 2024) & (y['Month'] == 11))]\n",
    "\n",
    "X_train = X_train[~((X_train['Year'] == 2024) & (X_train['Month'] == 10))]\n",
    "y_train = y_train[~((y_train['Year'] == 2024) & (y_train['Month'] == 11))]"
   ]
  },
  {
   "cell_type": "code",
   "execution_count": 69,
   "metadata": {},
   "outputs": [
    {
     "data": {
      "text/html": [
       "<style>#sk-container-id-2 {color: black;background-color: white;}#sk-container-id-2 pre{padding: 0;}#sk-container-id-2 div.sk-toggleable {background-color: white;}#sk-container-id-2 label.sk-toggleable__label {cursor: pointer;display: block;width: 100%;margin-bottom: 0;padding: 0.3em;box-sizing: border-box;text-align: center;}#sk-container-id-2 label.sk-toggleable__label-arrow:before {content: \"▸\";float: left;margin-right: 0.25em;color: #696969;}#sk-container-id-2 label.sk-toggleable__label-arrow:hover:before {color: black;}#sk-container-id-2 div.sk-estimator:hover label.sk-toggleable__label-arrow:before {color: black;}#sk-container-id-2 div.sk-toggleable__content {max-height: 0;max-width: 0;overflow: hidden;text-align: left;background-color: #f0f8ff;}#sk-container-id-2 div.sk-toggleable__content pre {margin: 0.2em;color: black;border-radius: 0.25em;background-color: #f0f8ff;}#sk-container-id-2 input.sk-toggleable__control:checked~div.sk-toggleable__content {max-height: 200px;max-width: 100%;overflow: auto;}#sk-container-id-2 input.sk-toggleable__control:checked~label.sk-toggleable__label-arrow:before {content: \"▾\";}#sk-container-id-2 div.sk-estimator input.sk-toggleable__control:checked~label.sk-toggleable__label {background-color: #d4ebff;}#sk-container-id-2 div.sk-label input.sk-toggleable__control:checked~label.sk-toggleable__label {background-color: #d4ebff;}#sk-container-id-2 input.sk-hidden--visually {border: 0;clip: rect(1px 1px 1px 1px);clip: rect(1px, 1px, 1px, 1px);height: 1px;margin: -1px;overflow: hidden;padding: 0;position: absolute;width: 1px;}#sk-container-id-2 div.sk-estimator {font-family: monospace;background-color: #f0f8ff;border: 1px dotted black;border-radius: 0.25em;box-sizing: border-box;margin-bottom: 0.5em;}#sk-container-id-2 div.sk-estimator:hover {background-color: #d4ebff;}#sk-container-id-2 div.sk-parallel-item::after {content: \"\";width: 100%;border-bottom: 1px solid gray;flex-grow: 1;}#sk-container-id-2 div.sk-label:hover label.sk-toggleable__label {background-color: #d4ebff;}#sk-container-id-2 div.sk-serial::before {content: \"\";position: absolute;border-left: 1px solid gray;box-sizing: border-box;top: 0;bottom: 0;left: 50%;z-index: 0;}#sk-container-id-2 div.sk-serial {display: flex;flex-direction: column;align-items: center;background-color: white;padding-right: 0.2em;padding-left: 0.2em;position: relative;}#sk-container-id-2 div.sk-item {position: relative;z-index: 1;}#sk-container-id-2 div.sk-parallel {display: flex;align-items: stretch;justify-content: center;background-color: white;position: relative;}#sk-container-id-2 div.sk-item::before, #sk-container-id-2 div.sk-parallel-item::before {content: \"\";position: absolute;border-left: 1px solid gray;box-sizing: border-box;top: 0;bottom: 0;left: 50%;z-index: -1;}#sk-container-id-2 div.sk-parallel-item {display: flex;flex-direction: column;z-index: 1;position: relative;background-color: white;}#sk-container-id-2 div.sk-parallel-item:first-child::after {align-self: flex-end;width: 50%;}#sk-container-id-2 div.sk-parallel-item:last-child::after {align-self: flex-start;width: 50%;}#sk-container-id-2 div.sk-parallel-item:only-child::after {width: 0;}#sk-container-id-2 div.sk-dashed-wrapped {border: 1px dashed gray;margin: 0 0.4em 0.5em 0.4em;box-sizing: border-box;padding-bottom: 0.4em;background-color: white;}#sk-container-id-2 div.sk-label label {font-family: monospace;font-weight: bold;display: inline-block;line-height: 1.2em;}#sk-container-id-2 div.sk-label-container {text-align: center;}#sk-container-id-2 div.sk-container {/* jupyter's `normalize.less` sets `[hidden] { display: none; }` but bootstrap.min.css set `[hidden] { display: none !important; }` so we also need the `!important` here to be able to override the default hidden behavior on the sphinx rendered scikit-learn.org. See: https://github.com/scikit-learn/scikit-learn/issues/21755 */display: inline-block !important;position: relative;}#sk-container-id-2 div.sk-text-repr-fallback {display: none;}</style><div id=\"sk-container-id-2\" class=\"sk-top-container\"><div class=\"sk-text-repr-fallback\"><pre>RandomForestRegressor(random_state=42)</pre><b>In a Jupyter environment, please rerun this cell to show the HTML representation or trust the notebook. <br />On GitHub, the HTML representation is unable to render, please try loading this page with nbviewer.org.</b></div><div class=\"sk-container\" hidden><div class=\"sk-item\"><div class=\"sk-estimator sk-toggleable\"><input class=\"sk-toggleable__control sk-hidden--visually\" id=\"sk-estimator-id-2\" type=\"checkbox\" checked><label for=\"sk-estimator-id-2\" class=\"sk-toggleable__label sk-toggleable__label-arrow\">RandomForestRegressor</label><div class=\"sk-toggleable__content\"><pre>RandomForestRegressor(random_state=42)</pre></div></div></div></div></div>"
      ],
      "text/plain": [
       "RandomForestRegressor(random_state=42)"
      ]
     },
     "execution_count": 69,
     "metadata": {},
     "output_type": "execute_result"
    }
   ],
   "source": [
    "model = RandomForestRegressor(n_estimators=100, random_state=42)\n",
    "model.fit(X_train, y_train)"
   ]
  },
  {
   "cell_type": "code",
   "execution_count": 70,
   "metadata": {},
   "outputs": [
    {
     "data": {
      "text/plain": [
       "19.91262876109946"
      ]
     },
     "execution_count": 70,
     "metadata": {},
     "output_type": "execute_result"
    }
   ],
   "source": [
    "y_pred = model.predict(X_test)\n",
    "mse = mean_squared_error(y_test, y_pred)\n",
    "np.sqrt(mse)"
   ]
  },
  {
   "cell_type": "code",
   "execution_count": 73,
   "metadata": {},
   "outputs": [],
   "source": [
    "import xgboost as xgb"
   ]
  },
  {
   "cell_type": "code",
   "execution_count": 75,
   "metadata": {},
   "outputs": [
    {
     "ename": "TypeError",
     "evalue": "'numpy.float64' object is not callable",
     "output_type": "error",
     "traceback": [
      "\u001b[0;31m---------------------------------------------------------------------------\u001b[0m",
      "\u001b[0;31mTypeError\u001b[0m                                 Traceback (most recent call last)",
      "Cell \u001b[0;32mIn [75], line 19\u001b[0m\n\u001b[1;32m     17\u001b[0m validation_preds \u001b[38;5;241m=\u001b[39m pd\u001b[38;5;241m.\u001b[39mSeries(validation_preds)\n\u001b[1;32m     18\u001b[0m validation_target \u001b[38;5;241m=\u001b[39m pd\u001b[38;5;241m.\u001b[39mSeries(y_val\u001b[38;5;241m.\u001b[39mvalues)\n\u001b[0;32m---> 19\u001b[0m err \u001b[38;5;241m=\u001b[39m np\u001b[38;5;241m.\u001b[39msqrt(\u001b[43mmse\u001b[49m\u001b[43m(\u001b[49m\u001b[43mvalidation_target\u001b[49m\u001b[43m,\u001b[49m\u001b[43m \u001b[49m\u001b[43mvalidation_preds\u001b[49m\u001b[43m)\u001b[49m)\n\u001b[1;32m     20\u001b[0m \u001b[38;5;28;01mif\u001b[39;00m err \u001b[38;5;241m<\u001b[39m best_rmse:\n\u001b[1;32m     21\u001b[0m     best_rmse \u001b[38;5;241m=\u001b[39m err\n",
      "\u001b[0;31mTypeError\u001b[0m: 'numpy.float64' object is not callable"
     ]
    }
   ],
   "source": [
    "max_depth_list = [4, 6, 8, 10, 12, 16, 18, 20]\n",
    "n_estimators_list = [50, 100, 200, 500, 1000]\n",
    "learning_rate_list = [0.1, 0.05, 0.01]\n",
    "best_max_depth = None\n",
    "best_n_estimators = None\n",
    "best_learning_rate = None\n",
    "best_validation_preds = None\n",
    "best_rmse = float('inf')\n",
    "best_xgb_model = None\n",
    "\n",
    "for max_depth in max_depth_list:\n",
    "    for n_estimators in n_estimators_list:\n",
    "        for learning_rate in learning_rate_list:\n",
    "            xgb_model = xgb.XGBRegressor(n_estimators=n_estimators, max_depth=max_depth, learning_rate=learning_rate, n_jobs=4, tree_method='auto')\n",
    "            xgb_model.fit(X_train, y_train)\n",
    "            validation_preds = xgb_model.predict(X_val)\n",
    "            validation_preds = pd.Series(validation_preds)\n",
    "            validation_target = pd.Series(y_val.values)\n",
    "            err = np.sqrt(mse(validation_target, validation_preds))\n",
    "            if err < best_rmse:\n",
    "                best_rmse = err\n",
    "                best_max_depth = max_depth\n",
    "                best_n_estimators = n_estimators\n",
    "                best_learning_rate = learning_rate\n",
    "                best_validation_preds = validation_preds\n",
    "                best_xgb_model = xgb_model\n",
    "\n",
    "print(f'XGB RMSE: {best_rmse}')\n",
    "print(f'max_depth: {best_max_depth}, n_estimators: {best_n_estimators}, learning_rate: {best_learning_rate}')"
   ]
  }
 ],
 "metadata": {
  "kernelspec": {
   "display_name": "Python 3.10.16 64-bit",
   "language": "python",
   "name": "python3"
  },
  "language_info": {
   "codemirror_mode": {
    "name": "ipython",
    "version": 3
   },
   "file_extension": ".py",
   "mimetype": "text/x-python",
   "name": "python",
   "nbconvert_exporter": "python",
   "pygments_lexer": "ipython3",
   "version": "3.10.16"
  },
  "orig_nbformat": 4,
  "vscode": {
   "interpreter": {
    "hash": "bd385fe162c5ca0c84973b7dd5c518456272446b2b64e67c2a69f949ca7a1754"
   }
  }
 },
 "nbformat": 4,
 "nbformat_minor": 2
}

{
 "cells": [
  {
   "cell_type": "code",
   "execution_count": 1,
   "id": "initial_id",
   "metadata": {
    "collapsed": true,
    "ExecuteTime": {
     "end_time": "2024-12-18T17:34:29.821505Z",
     "start_time": "2024-12-18T17:34:28.353299Z"
    }
   },
   "outputs": [],
   "source": [
    "from models import *\n",
    "from data_prep import *\n",
    "from divide import train_val_test"
   ]
  },
  {
   "cell_type": "code",
   "execution_count": 2,
   "outputs": [],
   "source": [
    "df = get_fully_featured_df(categorical = True)\n",
    "\n",
    "train, val, test = train_val_test(df, False, 'datetime')"
   ],
   "metadata": {
    "collapsed": false,
    "ExecuteTime": {
     "end_time": "2024-12-18T17:34:36.921131Z",
     "start_time": "2024-12-18T17:34:29.823162Z"
    }
   },
   "id": "e42d77ea0a946ea2"
  },
  {
   "cell_type": "code",
   "execution_count": 3,
   "outputs": [],
   "source": [
    "not_features = ['datetime', 'kWh']\n",
    "features = [col for col in df.columns.tolist() if col not in not_features]"
   ],
   "metadata": {
    "collapsed": false,
    "ExecuteTime": {
     "end_time": "2024-12-18T17:34:36.922168Z",
     "start_time": "2024-12-18T17:34:36.920257Z"
    }
   },
   "id": "449ca04a7aff1e84"
  },
  {
   "cell_type": "code",
   "execution_count": null,
   "outputs": [
    {
     "data": {
      "text/plain": "HBox(children=(IntProgress(value=0, max=10), Label(value='0%')))",
      "application/vnd.jupyter.widget-view+json": {
       "version_major": 2,
       "version_minor": 0,
       "model_id": "7edb6c4bd4ed4878a2998f3df5f506ec"
      }
     },
     "metadata": {},
     "output_type": "display_data"
    }
   ],
   "source": [
    "study, best_model, cv_score, test_score = optimize_model('LGBM', train, features, trials=10)"
   ],
   "metadata": {
    "collapsed": false,
    "is_executing": true,
    "ExecuteTime": {
     "start_time": "2024-12-18T17:34:36.924250Z"
    }
   },
   "id": "76f0acd3c94c249"
  },
  {
   "cell_type": "code",
   "execution_count": null,
   "outputs": [],
   "source": [
    "X = train[features]\n",
    "y = train['kWh']\n",
    "\n",
    "lgbm_model = lgb.LGBMRegressor(**study.best_params)\n",
    "lgbm_model.fit(X, y)"
   ],
   "metadata": {
    "collapsed": false,
    "is_executing": true
   },
   "id": "a0bccf5557499f10"
  },
  {
   "cell_type": "code",
   "execution_count": null,
   "outputs": [],
   "source": [
    "valid_preds = lgbm_model.predict(val[features])\n",
    "test_preds = lgbm_model.predict(test[features])\n",
    "print(f\"Validation: {rmse(val['kWh'], valid_preds)} \\n\"\n",
    "      f\"Test: {rmse(test['kWh'], test_preds)}\")"
   ],
   "metadata": {
    "collapsed": false,
    "is_executing": true
   },
   "id": "bd3e8bba9ffeff8e"
  },
  {
   "cell_type": "code",
   "execution_count": null,
   "outputs": [],
   "source": [],
   "metadata": {
    "collapsed": false
   },
   "id": "3526d4b706ca13ba"
  }
 ],
 "metadata": {
  "kernelspec": {
   "display_name": "Python 3",
   "language": "python",
   "name": "python3"
  },
  "language_info": {
   "codemirror_mode": {
    "name": "ipython",
    "version": 2
   },
   "file_extension": ".py",
   "mimetype": "text/x-python",
   "name": "python",
   "nbconvert_exporter": "python",
   "pygments_lexer": "ipython2",
   "version": "2.7.6"
  }
 },
 "nbformat": 4,
 "nbformat_minor": 5
}
